{
  "nbformat": 4,
  "nbformat_minor": 0,
  "metadata": {
    "colab": {
      "name": "write_and_run.ipynb",
      "provenance": [],
      "authorship_tag": "ABX9TyNJzvoQ+wjk6pOIZKMy1Um6",
      "include_colab_link": true
    },
    "kernelspec": {
      "name": "python3",
      "display_name": "Python 3"
    }
  },
  "cells": [
    {
      "cell_type": "markdown",
      "metadata": {
        "id": "view-in-github",
        "colab_type": "text"
      },
      "source": [
        "<a href=\"https://colab.research.google.com/github/gr3ybr0w/cookbook/blob/master/notebook/write_and_run.ipynb\" target=\"_parent\"><img src=\"https://colab.research.google.com/assets/colab-badge.svg\" alt=\"Open In Colab\"/></a>"
      ]
    },
    {
      "cell_type": "code",
      "metadata": {
        "id": "wsb_KzFTEEUc"
      },
      "source": [
        "from IPython.core.magic import register_cell_magic\r\n",
        "\r\n",
        "@register_cell_magic\r\n",
        "def write_and_run(line, cell):\r\n",
        "    argz = line.split()\r\n",
        "    file = argz[-1]\r\n",
        "    mode = 'w'\r\n",
        "    if len(argz) == 2 and argz[0] == '-a':\r\n",
        "        mode = 'a'\r\n",
        "    with open(file, mode) as f:\r\n",
        "        f.write(cell + '\\n\\n')\r\n",
        "    get_ipython().run_cell(cell)"
      ],
      "execution_count": null,
      "outputs": []
    }
  ]
}