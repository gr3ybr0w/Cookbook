{
  "nbformat": 4,
  "nbformat_minor": 0,
  "metadata": {
    "colab": {
      "name": "Perceptron_Trick.ipynb",
      "version": "0.3.2",
      "provenance": [],
      "include_colab_link": true
    },
    "kernelspec": {
      "name": "python3",
      "display_name": "Python 3"
    }
  },
  "cells": [
    {
      "cell_type": "markdown",
      "metadata": {
        "id": "view-in-github",
        "colab_type": "text"
      },
      "source": [
        "[View in Colaboratory](https://colab.research.google.com/github/gr3ybr0w/cookbook/blob/master/Perceptron_Trick.ipynb)"
      ]
    },
    {
      "metadata": {
        "id": "jgdMiffLAdOC",
        "colab_type": "code",
        "colab": {}
      },
      "cell_type": "code",
      "source": [
        "%matplotlib  inline\n",
        "%config InlineBackend.figure_format = 'retina'\n",
        "\n",
        "import matplotlib.pyplot as plt\n",
        "plt.style.use('fivethirtyeight')\n",
        "import numpy as np\n",
        "import pandas as pd"
      ],
      "execution_count": 0,
      "outputs": []
    },
    {
      "metadata": {
        "id": "o_Nvh3IgQZwV",
        "colab_type": "text"
      },
      "cell_type": "markdown",
      "source": [
        "For the second example, where the line is described by 3x1+ 4x2 - 10 = 0, if the learning rate was set to 0.1, how many times would you have to apply the perceptron trick to move the line to a position where the blue point, at (1, 1), is correctly classified?"
      ]
    },
    {
      "metadata": {
        "id": "srYEEm2hTmDB",
        "colab_type": "code",
        "colab": {
          "base_uri": "https://localhost:8080/",
          "height": 35
        },
        "outputId": "590309f0-dbd5-43aa-b90d-f09411a38160"
      },
      "cell_type": "code",
      "source": [
        "learning_rate = 0.1\n",
        "w1, w2, b = 3, 4, -10\n",
        "point_state = (w1 * 1) + (w2 * 1) + b\n",
        "count = 0\n",
        "point_state"
      ],
      "execution_count": 119,
      "outputs": [
        {
          "output_type": "execute_result",
          "data": {
            "text/plain": [
              "-3"
            ]
          },
          "metadata": {
            "tags": []
          },
          "execution_count": 119
        }
      ]
    },
    {
      "metadata": {
        "id": "HcvOqaO_T_iM",
        "colab_type": "code",
        "colab": {
          "base_uri": "https://localhost:8080/",
          "height": 377
        },
        "outputId": "e86c0270-aaba-4cb3-e401-5842f9d88e34"
      },
      "cell_type": "code",
      "source": [
        "while round(point_state,5) < 0:\n",
        "  w1 = w1 + (1 * learning_rate)\n",
        "  w2 = w2 + (1 * learning_rate)\n",
        "  b =  b  + (1 * learning_rate)\n",
        "  print('w1: {}, w2: {}, b: {}'.format(w1, w2, b))\n",
        "  point_state = (w1 * 1) + (w2 * 1) + b\n",
        "  print(round(point_state),5)\n",
        "  count += 1"
      ],
      "execution_count": 120,
      "outputs": [
        {
          "output_type": "stream",
          "text": [
            "w1: 3.1, w2: 4.1, b: -9.9\n",
            "-3 5\n",
            "w1: 3.2, w2: 4.199999999999999, b: -9.8\n",
            "-2 5\n",
            "w1: 3.3000000000000003, w2: 4.299999999999999, b: -9.700000000000001\n",
            "-2 5\n",
            "w1: 3.4000000000000004, w2: 4.399999999999999, b: -9.600000000000001\n",
            "-2 5\n",
            "w1: 3.5000000000000004, w2: 4.499999999999998, b: -9.500000000000002\n",
            "-2 5\n",
            "w1: 3.6000000000000005, w2: 4.599999999999998, b: -9.400000000000002\n",
            "-1 5\n",
            "w1: 3.7000000000000006, w2: 4.6999999999999975, b: -9.300000000000002\n",
            "-1 5\n",
            "w1: 3.8000000000000007, w2: 4.799999999999997, b: -9.200000000000003\n",
            "-1 5\n",
            "w1: 3.900000000000001, w2: 4.899999999999997, b: -9.100000000000003\n",
            "0 5\n",
            "w1: 4.000000000000001, w2: 4.9999999999999964, b: -9.000000000000004\n",
            "0 5\n"
          ],
          "name": "stdout"
        }
      ]
    },
    {
      "metadata": {
        "id": "bkz3h8QoTjkx",
        "colab_type": "code",
        "colab": {
          "base_uri": "https://localhost:8080/",
          "height": 35
        },
        "outputId": "498e9cb5-4397-4b17-b189-23f10496bd08"
      },
      "cell_type": "code",
      "source": [
        "count"
      ],
      "execution_count": 121,
      "outputs": [
        {
          "output_type": "execute_result",
          "data": {
            "text/plain": [
              "10"
            ]
          },
          "metadata": {
            "tags": []
          },
          "execution_count": 121
        }
      ]
    },
    {
      "metadata": {
        "id": "UI-Wr6sWT50I",
        "colab_type": "code",
        "colab": {}
      },
      "cell_type": "code",
      "source": [
        ""
      ],
      "execution_count": 0,
      "outputs": []
    }
  ]
}