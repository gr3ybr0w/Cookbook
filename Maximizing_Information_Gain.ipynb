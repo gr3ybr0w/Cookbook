{
  "nbformat": 4,
  "nbformat_minor": 0,
  "metadata": {
    "colab": {
      "name": "Maximizing_Information_Gain.ipynb",
      "version": "0.3.2",
      "provenance": [],
      "include_colab_link": true
    },
    "kernelspec": {
      "name": "python3",
      "display_name": "Python 3"
    }
  },
  "cells": [
    {
      "cell_type": "markdown",
      "metadata": {
        "id": "view-in-github",
        "colab_type": "text"
      },
      "source": [
        "[View in Colaboratory](https://colab.research.google.com/github/gr3ybr0w/cookbook/blob/master/Maximizing_Information_Gain.ipynb)"
      ]
    },
    {
      "metadata": {
        "id": "YLXUvrT73J3k",
        "colab_type": "code",
        "colab": {}
      },
      "cell_type": "code",
      "source": [
        "import pandas as pd\n",
        "import numpy as np"
      ],
      "execution_count": 0,
      "outputs": []
    },
    {
      "metadata": {
        "id": "_SoCHmH_3Ly8",
        "colab_type": "code",
        "colab": {}
      },
      "cell_type": "code",
      "source": [
        "df = pd.DataFrame([{'Gender': 'F', 'Occupation': 'Study', 'App': 'Pokemon'},\n",
        "              {'Gender': 'F', 'Occupation': 'Work', 'App': 'WhatsApp'},\n",
        "              {'Gender': 'M', 'Occupation': 'Work', 'App': 'SnapChat'},\n",
        "              {'Gender': 'F', 'Occupation': 'Work', 'App': 'WhatsApp'},\n",
        "              {'Gender': 'M', 'Occupation': 'Study', 'App': 'Pokemon'},\n",
        "              {'Gender': 'M', 'Occupation': 'Study', 'App': 'Pokemon'}])"
      ],
      "execution_count": 0,
      "outputs": []
    },
    {
      "metadata": {
        "id": "mwZMqSxX376T",
        "colab_type": "code",
        "colab": {
          "base_uri": "https://localhost:8080/",
          "height": 235
        },
        "outputId": "c1ded447-c261-4e03-b1ee-eecae55db5ec"
      },
      "cell_type": "code",
      "source": [
        "df"
      ],
      "execution_count": 5,
      "outputs": [
        {
          "output_type": "execute_result",
          "data": {
            "text/html": [
              "<div>\n",
              "<style scoped>\n",
              "    .dataframe tbody tr th:only-of-type {\n",
              "        vertical-align: middle;\n",
              "    }\n",
              "\n",
              "    .dataframe tbody tr th {\n",
              "        vertical-align: top;\n",
              "    }\n",
              "\n",
              "    .dataframe thead th {\n",
              "        text-align: right;\n",
              "    }\n",
              "</style>\n",
              "<table border=\"1\" class=\"dataframe\">\n",
              "  <thead>\n",
              "    <tr style=\"text-align: right;\">\n",
              "      <th></th>\n",
              "      <th>App</th>\n",
              "      <th>Gender</th>\n",
              "      <th>Occupation</th>\n",
              "    </tr>\n",
              "  </thead>\n",
              "  <tbody>\n",
              "    <tr>\n",
              "      <th>0</th>\n",
              "      <td>Pokemon</td>\n",
              "      <td>F</td>\n",
              "      <td>Study</td>\n",
              "    </tr>\n",
              "    <tr>\n",
              "      <th>1</th>\n",
              "      <td>WhatsApp</td>\n",
              "      <td>F</td>\n",
              "      <td>Work</td>\n",
              "    </tr>\n",
              "    <tr>\n",
              "      <th>2</th>\n",
              "      <td>SnapChat</td>\n",
              "      <td>M</td>\n",
              "      <td>Work</td>\n",
              "    </tr>\n",
              "    <tr>\n",
              "      <th>3</th>\n",
              "      <td>WhatsApp</td>\n",
              "      <td>F</td>\n",
              "      <td>Work</td>\n",
              "    </tr>\n",
              "    <tr>\n",
              "      <th>4</th>\n",
              "      <td>Pokemon</td>\n",
              "      <td>M</td>\n",
              "      <td>Study</td>\n",
              "    </tr>\n",
              "    <tr>\n",
              "      <th>5</th>\n",
              "      <td>Pokemon</td>\n",
              "      <td>M</td>\n",
              "      <td>Study</td>\n",
              "    </tr>\n",
              "  </tbody>\n",
              "</table>\n",
              "</div>"
            ],
            "text/plain": [
              "        App Gender Occupation\n",
              "0   Pokemon      F      Study\n",
              "1  WhatsApp      F       Work\n",
              "2  SnapChat      M       Work\n",
              "3  WhatsApp      F       Work\n",
              "4   Pokemon      M      Study\n",
              "5   Pokemon      M      Study"
            ]
          },
          "metadata": {
            "tags": []
          },
          "execution_count": 5
        }
      ]
    },
    {
      "metadata": {
        "id": "W_MYurGE4FwE",
        "colab_type": "code",
        "colab": {
          "base_uri": "https://localhost:8080/",
          "height": 35
        },
        "outputId": "aa208b48-80ab-49c2-8bb0-ae19886441d1"
      },
      "cell_type": "code",
      "source": [
        "# Entropy of the parent, the App column\n",
        "parent_entropy = -(3/6)*np.log2(3/6) - (2/6)*np.log2(2/6) - (1/6)*np.log2(1/6)\n",
        "np.round(parent_entropy,2)"
      ],
      "execution_count": 8,
      "outputs": [
        {
          "output_type": "execute_result",
          "data": {
            "text/plain": [
              "1.46"
            ]
          },
          "metadata": {
            "tags": []
          },
          "execution_count": 8
        }
      ]
    },
    {
      "metadata": {
        "id": "X5jVAz-14mFj",
        "colab_type": "code",
        "colab": {
          "base_uri": "https://localhost:8080/",
          "height": 35
        },
        "outputId": "0bd2881e-3540-43b9-daed-11c630519987"
      },
      "cell_type": "code",
      "source": [
        "# Gender split\n",
        "female_split = -(2/3)*np.log2(2/3) -(1/3)*np.log2(1/3)\n",
        "np.round(female_split, 2)"
      ],
      "execution_count": 12,
      "outputs": [
        {
          "output_type": "execute_result",
          "data": {
            "text/plain": [
              "0.92"
            ]
          },
          "metadata": {
            "tags": []
          },
          "execution_count": 12
        }
      ]
    },
    {
      "metadata": {
        "id": "SMWrUOlt9smS",
        "colab_type": "code",
        "colab": {
          "base_uri": "https://localhost:8080/",
          "height": 35
        },
        "outputId": "11cef194-fb15-4cea-9c65-e31dfa5cea1d"
      },
      "cell_type": "code",
      "source": [
        "male_split = -(2/3)*np.log2(2/3) -(1/3)*np.log2(1/3)\n",
        "np.round(male_split, 2)"
      ],
      "execution_count": 13,
      "outputs": [
        {
          "output_type": "execute_result",
          "data": {
            "text/plain": [
              "0.92"
            ]
          },
          "metadata": {
            "tags": []
          },
          "execution_count": 13
        }
      ]
    },
    {
      "metadata": {
        "id": "lGk7XT9p-WI5",
        "colab_type": "code",
        "colab": {
          "base_uri": "https://localhost:8080/",
          "height": 35
        },
        "outputId": "f4f59473-891d-4f08-f51c-d23c5f419c2e"
      },
      "cell_type": "code",
      "source": [
        "# average for gender\n",
        "np.round((male_split + female_split) / 2, 2)"
      ],
      "execution_count": 21,
      "outputs": [
        {
          "output_type": "execute_result",
          "data": {
            "text/plain": [
              "0.92"
            ]
          },
          "metadata": {
            "tags": []
          },
          "execution_count": 21
        }
      ]
    },
    {
      "metadata": {
        "id": "0BJSe1Ls-e2F",
        "colab_type": "code",
        "colab": {
          "base_uri": "https://localhost:8080/",
          "height": 35
        },
        "outputId": "29068132-54fd-4ef3-eb14-a6076d6bf905"
      },
      "cell_type": "code",
      "source": [
        "# information gain from gender split\n",
        "np.round(np.round(parent_entropy,2) - np.round((male_split + female_split) / 2, 2), 2)"
      ],
      "execution_count": 26,
      "outputs": [
        {
          "output_type": "execute_result",
          "data": {
            "text/plain": [
              "0.54"
            ]
          },
          "metadata": {
            "tags": []
          },
          "execution_count": 26
        }
      ]
    },
    {
      "metadata": {
        "id": "mrMu6xWg-oSb",
        "colab_type": "code",
        "colab": {
          "base_uri": "https://localhost:8080/",
          "height": 35
        },
        "outputId": "c3649919-0ed1-4c05-d13d-a7bbc4694136"
      },
      "cell_type": "code",
      "source": [
        "# Occpation split\n",
        "study_split = -(3/6)*np.log2(3/3) - (3/3)*np.log2(3/3)\n",
        "study_split"
      ],
      "execution_count": 18,
      "outputs": [
        {
          "output_type": "execute_result",
          "data": {
            "text/plain": [
              "-0.0"
            ]
          },
          "metadata": {
            "tags": []
          },
          "execution_count": 18
        }
      ]
    },
    {
      "metadata": {
        "id": "pMhcCDxC_ML8",
        "colab_type": "code",
        "colab": {
          "base_uri": "https://localhost:8080/",
          "height": 35
        },
        "outputId": "b5dd1d5e-3511-4c1f-a04a-e5cd066fdc97"
      },
      "cell_type": "code",
      "source": [
        "work_split = -(2/3)*np.log2(2/3) - (1/3)*np.log2(1/3)\n",
        "np.round(work_split,2)"
      ],
      "execution_count": 20,
      "outputs": [
        {
          "output_type": "execute_result",
          "data": {
            "text/plain": [
              "0.92"
            ]
          },
          "metadata": {
            "tags": []
          },
          "execution_count": 20
        }
      ]
    },
    {
      "metadata": {
        "id": "tf39twO6_kPU",
        "colab_type": "code",
        "colab": {
          "base_uri": "https://localhost:8080/",
          "height": 35
        },
        "outputId": "87e6ab00-8a8e-4c7e-a7a7-e5b06023fce2"
      },
      "cell_type": "code",
      "source": [
        "# average for occupation\n",
        "np.round((study_split + work_split / 2), 2)"
      ],
      "execution_count": 23,
      "outputs": [
        {
          "output_type": "execute_result",
          "data": {
            "text/plain": [
              "0.46"
            ]
          },
          "metadata": {
            "tags": []
          },
          "execution_count": 23
        }
      ]
    },
    {
      "metadata": {
        "id": "4SotAOOZAGsc",
        "colab_type": "code",
        "colab": {
          "base_uri": "https://localhost:8080/",
          "height": 35
        },
        "outputId": "2a9d66d0-0959-4c8b-bc70-fedb95e9d789"
      },
      "cell_type": "code",
      "source": [
        "# information gain from occupation split\n",
        "np.round(np.round(parent_entropy,2) - np.round((study_split + work_split / 2), 2),2)"
      ],
      "execution_count": 25,
      "outputs": [
        {
          "output_type": "execute_result",
          "data": {
            "text/plain": [
              "1.0"
            ]
          },
          "metadata": {
            "tags": []
          },
          "execution_count": 25
        }
      ]
    },
    {
      "metadata": {
        "id": "la1JyNs5AxNu",
        "colab_type": "text"
      },
      "cell_type": "markdown",
      "source": [
        "The highest information gain comes from occupation"
      ]
    },
    {
      "metadata": {
        "id": "iS0VcmiIASIZ",
        "colab_type": "code",
        "colab": {}
      },
      "cell_type": "code",
      "source": [
        ""
      ],
      "execution_count": 0,
      "outputs": []
    }
  ]
}