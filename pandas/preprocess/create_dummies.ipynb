{
  "nbformat": 4,
  "nbformat_minor": 0,
  "metadata": {
    "colab": {
      "name": "create_dummies.ipynb",
      "version": "0.3.2",
      "provenance": [],
      "include_colab_link": true
    },
    "kernelspec": {
      "name": "python3",
      "display_name": "Python 3"
    }
  },
  "cells": [
    {
      "cell_type": "markdown",
      "metadata": {
        "id": "view-in-github",
        "colab_type": "text"
      },
      "source": [
        "<a href=\"https://colab.research.google.com/github/gr3ybr0w/cookbook/blob/master/pandas/preprocess/create_dummies.ipynb\" target=\"_parent\"><img src=\"https://colab.research.google.com/assets/colab-badge.svg\" alt=\"Open In Colab\"/></a>"
      ]
    },
    {
      "metadata": {
        "id": "R1EDB7TDbcLw",
        "colab_type": "code",
        "colab": {}
      },
      "cell_type": "code",
      "source": [
        "def create_dummy_df(df, cat_cols, drop_first=True, dummy_na):\n",
        "    '''\n",
        "    This function takes a dataframe and a list of the categoical columns to changes into dummies.\n",
        "    If working with a linear model the set drop_first to True so that one column is represented by all other columns being 0,\n",
        "    this is not needed when working with decisions trees.\n",
        "    \n",
        "    INPUT:\n",
        "    df - pandas dataframe with categorical variables you want to dummy\n",
        "    cat_cols - list of strings that are associated with names of the categorical columns\n",
        "    dummy_na - Bool holding whether you want to dummy NA vals of categorical columns or not\n",
        "    \n",
        "    OUTPUT:\n",
        "    df - a new dataframe that has the following characteristics:\n",
        "            1. contains all columns that were not specified as categorical\n",
        "            2. removes all the original columns in cat_cols\n",
        "            3. dummy columns for each of the categorical columns in cat_cols\n",
        "            4. if dummy_na is True - it also contains dummy columns for the NaN values\n",
        "            5. Use a prefix of the column name with an underscore (_) for separating \n",
        "    '''\n",
        "    for col in  cat_cols:\n",
        "        try:\n",
        "            # for each cat add dummy var, drop original column\n",
        "            df = pd.concat([df.drop(col, axis=1), pd.get_dummies(df[col], prefix=col, prefix_sep='_', drop_first=drop_first, dummy_na=dummy_na)], axis=1)\n",
        "        except:\n",
        "            continue\n",
        "\n",
        "    return df"
      ],
      "execution_count": 0,
      "outputs": []
    }
  ]
}