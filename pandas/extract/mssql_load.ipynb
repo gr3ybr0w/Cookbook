{
  "nbformat": 4,
  "nbformat_minor": 0,
  "metadata": {
    "colab": {
      "name": "mssql_load.ipynb",
      "version": "0.3.2",
      "provenance": [],
      "include_colab_link": true
    },
    "kernelspec": {
      "name": "python3",
      "display_name": "Python 3"
    }
  },
  "cells": [
    {
      "cell_type": "markdown",
      "metadata": {
        "id": "view-in-github",
        "colab_type": "text"
      },
      "source": [
        "<a href=\"https://colab.research.google.com/github/gr3ybr0w/cookbook/blob/master/pandas/extract/mssql_load.ipynb\" target=\"_parent\"><img src=\"https://colab.research.google.com/assets/colab-badge.svg\" alt=\"Open In Colab\"/></a>"
      ]
    },
    {
      "metadata": {
        "id": "Kr-koOkQeVDM",
        "colab_type": "code",
        "colab": {}
      },
      "cell_type": "code",
      "source": [
        "import pandas as pd\n",
        "import sqlalchemy\n",
        "import pyodbc\n",
        "import urllib\n",
        "import csv"
      ],
      "execution_count": 0,
      "outputs": []
    },
    {
      "metadata": {
        "id": "aE8GhQSSekYT",
        "colab_type": "code",
        "colab": {}
      },
      "cell_type": "code",
      "source": [
        "conn_str =(\n",
        "    r'DRIVER={ODBC Driver 13 for SQL Server};'\n",
        "    r'SERVER=960477-prodata2;'\n",
        "    r'DATABASE=DataScienceresources;'\n",
        "    r'UID=PDS\\th3128;'\n",
        "    r'PWD=PASSWORD;'\n",
        "    r'Trusted_Connection=yes;'\n",
        "    )\n",
        "\n",
        "quoted_conn_str = urllib.parse.quote_plus(conn_str)\n",
        "engine = sqlalchemy.create_engine('mssql+pyodbc:///?odbc_connect={}'.format(quoted_conn_str))"
      ],
      "execution_count": 0,
      "outputs": []
    },
    {
      "metadata": {
        "id": "N_c4H3Njeq3w",
        "colab_type": "code",
        "colab": {}
      },
      "cell_type": "code",
      "source": [
        "data = pd.read_sql_query(\"\"\"\n",
        "select * from foo\n",
        "\"\"\", engine)"
      ],
      "execution_count": 0,
      "outputs": []
    }
  ]
}