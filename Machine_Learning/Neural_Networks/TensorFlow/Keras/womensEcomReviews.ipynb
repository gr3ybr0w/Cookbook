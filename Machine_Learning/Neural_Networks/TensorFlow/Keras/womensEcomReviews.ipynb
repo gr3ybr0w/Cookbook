{
  "nbformat": 4,
  "nbformat_minor": 0,
  "metadata": {
    "colab": {
      "name": "womensEcomReviews.ipynb",
      "version": "0.3.2",
      "provenance": [],
      "include_colab_link": true
    },
    "kernelspec": {
      "name": "python3",
      "display_name": "Python 3"
    },
    "accelerator": "GPU"
  },
  "cells": [
    {
      "cell_type": "markdown",
      "metadata": {
        "id": "view-in-github",
        "colab_type": "text"
      },
      "source": [
        "<a href=\"https://colab.research.google.com/github/gr3ybr0w/cookbook/blob/master/Machine_Learning/Neural_Networks/TensorFlow/Keras/womensEcomReviews.ipynb\" target=\"_parent\"><img src=\"https://colab.research.google.com/assets/colab-badge.svg\" alt=\"Open In Colab\"/></a>"
      ]
    },
    {
      "metadata": {
        "id": "oVtOx9VmGd1V",
        "colab_type": "code",
        "colab": {
          "base_uri": "https://localhost:8080/",
          "height": 221
        },
        "outputId": "5c2d9f14-ee62-433b-9692-5cf967fefad0"
      },
      "cell_type": "code",
      "source": [
        "# making the move as kaggle now looks in a different location for the file\n",
        "!cp /content/.kaggle/kaggle.json /root/.kaggle/kaggle.json\n",
        "!pip install kaggle"
      ],
      "execution_count": 8,
      "outputs": [
        {
          "output_type": "stream",
          "text": [
            "cp: cannot stat '/content/.kaggle/kaggle.json': No such file or directory\n",
            "Requirement already satisfied: kaggle in /usr/local/lib/python3.6/dist-packages (1.5.2)\n",
            "Requirement already satisfied: urllib3<1.23.0,>=1.15 in /usr/local/lib/python3.6/dist-packages (from kaggle) (1.22)\n",
            "Requirement already satisfied: six>=1.10 in /usr/local/lib/python3.6/dist-packages (from kaggle) (1.11.0)\n",
            "Requirement already satisfied: certifi in /usr/local/lib/python3.6/dist-packages (from kaggle) (2018.11.29)\n",
            "Requirement already satisfied: python-dateutil in /usr/local/lib/python3.6/dist-packages (from kaggle) (2.5.3)\n",
            "Requirement already satisfied: requests in /usr/local/lib/python3.6/dist-packages (from kaggle) (2.18.4)\n",
            "Requirement already satisfied: tqdm in /usr/local/lib/python3.6/dist-packages (from kaggle) (4.28.1)\n",
            "Requirement already satisfied: python-slugify in /usr/local/lib/python3.6/dist-packages (from kaggle) (2.0.1)\n",
            "Requirement already satisfied: idna<2.7,>=2.5 in /usr/local/lib/python3.6/dist-packages (from requests->kaggle) (2.6)\n",
            "Requirement already satisfied: chardet<3.1.0,>=3.0.2 in /usr/local/lib/python3.6/dist-packages (from requests->kaggle) (3.0.4)\n",
            "Requirement already satisfied: Unidecode>=0.04.16 in /usr/local/lib/python3.6/dist-packages (from python-slugify->kaggle) (1.0.23)\n"
          ],
          "name": "stdout"
        }
      ]
    },
    {
      "metadata": {
        "id": "4vT0HfooPX0d",
        "colab_type": "code",
        "colab": {
          "base_uri": "https://localhost:8080/",
          "height": 85
        },
        "outputId": "76de2eeb-f40e-4e34-e680-845405c10723"
      },
      "cell_type": "code",
      "source": [
        "!ls -la /.kaggle/kaggle.json"
      ],
      "execution_count": 23,
      "outputs": [
        {
          "output_type": "stream",
          "text": [
            "total 12\n",
            "drwxr-xr-x 2 root root 4096 Feb  5 15:17 .\n",
            "drwxr-xr-x 1 root root 4096 Feb  5 15:17 ..\n",
            "---x-wx--T 1 root root   70 Feb  5 15:18 kaggle.json\n"
          ],
          "name": "stdout"
        }
      ]
    },
    {
      "metadata": {
        "id": "lgJ7CyODGpta",
        "colab_type": "code",
        "colab": {
          "base_uri": "https://localhost:8080/",
          "height": 34
        },
        "outputId": "7ac9b88d-1163-48c1-b665-026c01cb15d9"
      },
      "cell_type": "code",
      "source": [
        "# making the move as kaggle now looks in a different location for the file\n",
        "!cp /.kaggle/kaggle.json /root/.kaggle/kaggle.json\n",
        "\n",
        "from googleapiclient.discovery import build\n",
        "import io, os\n",
        "from googleapiclient.http import MediaIoBaseDownload\n",
        "from google.colab import auth\n",
        "auth.authenticate_user()\n",
        "drive_service = build('drive', 'v3')\n",
        "results = drive_service.files().list(\n",
        "        q=\"name = 'kaggle.json'\", fields=\"files(id)\").execute()\n",
        "kaggle_api_key = results.get('files', [])\n",
        "filename = \"/.kaggle/kaggle.json\"\n",
        "os.makedirs(os.path.dirname(filename), exist_ok=True)\n",
        "request = drive_service.files().get_media(fileId=kaggle_api_key[0]['id'])\n",
        "fh = io.FileIO(filename, 'wb')\n",
        "downloader = MediaIoBaseDownload(fh, request)\n",
        "done = False\n",
        "while done is False:\n",
        "    status, done = downloader.next_chunk()\n",
        "    print(\"Download %d%%.\" % int(status.progress() * 100))\n",
        "os.chmod(filename, 600)"
      ],
      "execution_count": 24,
      "outputs": [
        {
          "output_type": "stream",
          "text": [
            "Download 100%.\n"
          ],
          "name": "stdout"
        }
      ]
    },
    {
      "metadata": {
        "id": "JthWsJMUJVFd",
        "colab_type": "code",
        "colab": {
          "base_uri": "https://localhost:8080/",
          "height": 68
        },
        "outputId": "f35ba3a1-e99c-48af-bd99-9f840ecaca5f"
      },
      "cell_type": "code",
      "source": [
        "!kaggle datasets download -d nicapotato/womens-ecommerce-clothing-reviews"
      ],
      "execution_count": 25,
      "outputs": [
        {
          "output_type": "stream",
          "text": [
            "Downloading womens-ecommerce-clothing-reviews.zip to /content\n",
            "\r  0% 0.00/2.79M [00:00<?, ?B/s]\n",
            "\r100% 2.79M/2.79M [00:00<00:00, 92.5MB/s]\n"
          ],
          "name": "stdout"
        }
      ]
    },
    {
      "metadata": {
        "id": "83EcOaBfKQxU",
        "colab_type": "code",
        "colab": {
          "base_uri": "https://localhost:8080/",
          "height": 34
        },
        "outputId": "59137133-6c46-44b1-e3e6-32e2a2c21405"
      },
      "cell_type": "code",
      "source": [
        "!ls"
      ],
      "execution_count": 26,
      "outputs": [
        {
          "output_type": "stream",
          "text": [
            "adc.json  sample_data  womens-ecommerce-clothing-reviews.zip\n"
          ],
          "name": "stdout"
        }
      ]
    },
    {
      "metadata": {
        "id": "iolKASTiKSKl",
        "colab_type": "code",
        "colab": {
          "base_uri": "https://localhost:8080/",
          "height": 51
        },
        "outputId": "33d60a3a-5fbc-4067-ecf4-d878a60a89e2"
      },
      "cell_type": "code",
      "source": [
        "!unzip womens-ecommerce-clothing-reviews.zip"
      ],
      "execution_count": 27,
      "outputs": [
        {
          "output_type": "stream",
          "text": [
            "Archive:  womens-ecommerce-clothing-reviews.zip\n",
            "  inflating: Womens Clothing E-Commerce Reviews.csv  \n"
          ],
          "name": "stdout"
        }
      ]
    },
    {
      "metadata": {
        "id": "dxYqTvZMKVkd",
        "colab_type": "code",
        "colab": {
          "base_uri": "https://localhost:8080/",
          "height": 51
        },
        "outputId": "c7dfea5b-5960-4b4d-f6f2-630c3ba0a39c"
      },
      "cell_type": "code",
      "source": [
        "!ls"
      ],
      "execution_count": 28,
      "outputs": [
        {
          "output_type": "stream",
          "text": [
            " adc.json     'Womens Clothing E-Commerce Reviews.csv'\n",
            " sample_data   womens-ecommerce-clothing-reviews.zip\n"
          ],
          "name": "stdout"
        }
      ]
    },
    {
      "metadata": {
        "id": "cPM7OlEHKWvU",
        "colab_type": "code",
        "colab": {}
      },
      "cell_type": "code",
      "source": [
        "import pandas as pd\n",
        "import numpy as np\n",
        "import os"
      ],
      "execution_count": 0,
      "outputs": []
    },
    {
      "metadata": {
        "id": "zx4EQa8YKfqE",
        "colab_type": "code",
        "colab": {
          "base_uri": "https://localhost:8080/",
          "height": 204
        },
        "outputId": "159ce4b5-f5a3-4f4f-dae1-69b4ba9f5c3c"
      },
      "cell_type": "code",
      "source": [
        "data = pd.read_csv('./Womens Clothing E-Commerce Reviews.csv').drop(['Unnamed: 0'], axis = 1)\n",
        "data = data.dropna()\n",
        "data.head()"
      ],
      "execution_count": 30,
      "outputs": [
        {
          "output_type": "execute_result",
          "data": {
            "text/html": [
              "<div>\n",
              "<style scoped>\n",
              "    .dataframe tbody tr th:only-of-type {\n",
              "        vertical-align: middle;\n",
              "    }\n",
              "\n",
              "    .dataframe tbody tr th {\n",
              "        vertical-align: top;\n",
              "    }\n",
              "\n",
              "    .dataframe thead th {\n",
              "        text-align: right;\n",
              "    }\n",
              "</style>\n",
              "<table border=\"1\" class=\"dataframe\">\n",
              "  <thead>\n",
              "    <tr style=\"text-align: right;\">\n",
              "      <th></th>\n",
              "      <th>Clothing ID</th>\n",
              "      <th>Age</th>\n",
              "      <th>Title</th>\n",
              "      <th>Review Text</th>\n",
              "      <th>Rating</th>\n",
              "      <th>Recommended IND</th>\n",
              "      <th>Positive Feedback Count</th>\n",
              "      <th>Division Name</th>\n",
              "      <th>Department Name</th>\n",
              "      <th>Class Name</th>\n",
              "    </tr>\n",
              "  </thead>\n",
              "  <tbody>\n",
              "    <tr>\n",
              "      <th>2</th>\n",
              "      <td>1077</td>\n",
              "      <td>60</td>\n",
              "      <td>Some major design flaws</td>\n",
              "      <td>I had such high hopes for this dress and reall...</td>\n",
              "      <td>3</td>\n",
              "      <td>0</td>\n",
              "      <td>0</td>\n",
              "      <td>General</td>\n",
              "      <td>Dresses</td>\n",
              "      <td>Dresses</td>\n",
              "    </tr>\n",
              "    <tr>\n",
              "      <th>3</th>\n",
              "      <td>1049</td>\n",
              "      <td>50</td>\n",
              "      <td>My favorite buy!</td>\n",
              "      <td>I love, love, love this jumpsuit. it's fun, fl...</td>\n",
              "      <td>5</td>\n",
              "      <td>1</td>\n",
              "      <td>0</td>\n",
              "      <td>General Petite</td>\n",
              "      <td>Bottoms</td>\n",
              "      <td>Pants</td>\n",
              "    </tr>\n",
              "    <tr>\n",
              "      <th>4</th>\n",
              "      <td>847</td>\n",
              "      <td>47</td>\n",
              "      <td>Flattering shirt</td>\n",
              "      <td>This shirt is very flattering to all due to th...</td>\n",
              "      <td>5</td>\n",
              "      <td>1</td>\n",
              "      <td>6</td>\n",
              "      <td>General</td>\n",
              "      <td>Tops</td>\n",
              "      <td>Blouses</td>\n",
              "    </tr>\n",
              "    <tr>\n",
              "      <th>5</th>\n",
              "      <td>1080</td>\n",
              "      <td>49</td>\n",
              "      <td>Not for the very petite</td>\n",
              "      <td>I love tracy reese dresses, but this one is no...</td>\n",
              "      <td>2</td>\n",
              "      <td>0</td>\n",
              "      <td>4</td>\n",
              "      <td>General</td>\n",
              "      <td>Dresses</td>\n",
              "      <td>Dresses</td>\n",
              "    </tr>\n",
              "    <tr>\n",
              "      <th>6</th>\n",
              "      <td>858</td>\n",
              "      <td>39</td>\n",
              "      <td>Cagrcoal shimmer fun</td>\n",
              "      <td>I aded this in my basket at hte last mintue to...</td>\n",
              "      <td>5</td>\n",
              "      <td>1</td>\n",
              "      <td>1</td>\n",
              "      <td>General Petite</td>\n",
              "      <td>Tops</td>\n",
              "      <td>Knits</td>\n",
              "    </tr>\n",
              "  </tbody>\n",
              "</table>\n",
              "</div>"
            ],
            "text/plain": [
              "   Clothing ID  Age                    Title  \\\n",
              "2         1077   60  Some major design flaws   \n",
              "3         1049   50         My favorite buy!   \n",
              "4          847   47         Flattering shirt   \n",
              "5         1080   49  Not for the very petite   \n",
              "6          858   39     Cagrcoal shimmer fun   \n",
              "\n",
              "                                         Review Text  Rating  Recommended IND  \\\n",
              "2  I had such high hopes for this dress and reall...       3                0   \n",
              "3  I love, love, love this jumpsuit. it's fun, fl...       5                1   \n",
              "4  This shirt is very flattering to all due to th...       5                1   \n",
              "5  I love tracy reese dresses, but this one is no...       2                0   \n",
              "6  I aded this in my basket at hte last mintue to...       5                1   \n",
              "\n",
              "   Positive Feedback Count   Division Name Department Name Class Name  \n",
              "2                        0         General         Dresses    Dresses  \n",
              "3                        0  General Petite         Bottoms      Pants  \n",
              "4                        6         General            Tops    Blouses  \n",
              "5                        4         General         Dresses    Dresses  \n",
              "6                        1  General Petite            Tops      Knits  "
            ]
          },
          "metadata": {
            "tags": []
          },
          "execution_count": 30
        }
      ]
    },
    {
      "metadata": {
        "id": "cWjpNLJBKk59",
        "colab_type": "code",
        "colab": {}
      },
      "cell_type": "code",
      "source": [
        "X, y = data.drop(['Class Name'], axis = 1), data['Class Name']"
      ],
      "execution_count": 0,
      "outputs": []
    },
    {
      "metadata": {
        "id": "arMDE921KpE9",
        "colab_type": "code",
        "colab": {
          "base_uri": "https://localhost:8080/",
          "height": 34
        },
        "outputId": "cf60b4a1-8ea4-48ab-93d0-fe7b09edb9e2"
      },
      "cell_type": "code",
      "source": [
        "from keras.models import Sequential\n",
        "from keras.layers import Dense, Dropout\n",
        "from keras.layers import Embedding, GlobalMaxPooling1D\n",
        "from keras.callbacks import ModelCheckpoint, EarlyStopping\n",
        "from keras.utils import to_categorical\n",
        "from keras.preprocessing.text import Tokenizer\n",
        "from keras.preprocessing.sequence import pad_sequences"
      ],
      "execution_count": 32,
      "outputs": [
        {
          "output_type": "stream",
          "text": [
            "Using TensorFlow backend.\n"
          ],
          "name": "stderr"
        }
      ]
    },
    {
      "metadata": {
        "id": "7oNofM9qK_o8",
        "colab_type": "code",
        "colab": {}
      },
      "cell_type": "code",
      "source": [
        "title_tokenizer = Tokenizer()\n",
        "text_tokenizer = Tokenizer()\n",
        "title_tokenizer.fit_on_texts(X['Title'].values)\n",
        "text_tokenizer.fit_on_texts(X['Review Text'])"
      ],
      "execution_count": 0,
      "outputs": []
    },
    {
      "metadata": {
        "id": "bz1RB2X8LBQd",
        "colab_type": "code",
        "colab": {}
      },
      "cell_type": "code",
      "source": [
        "from sklearn.model_selection import train_test_split\n",
        "X_train, X_validation, y_train, y_validation = train_test_split(\n",
        "    X, y, test_size = 0.2\n",
        ")"
      ],
      "execution_count": 0,
      "outputs": []
    },
    {
      "metadata": {
        "id": "YfyUxqdELCat",
        "colab_type": "code",
        "colab": {}
      },
      "cell_type": "code",
      "source": [
        "train_title = title_tokenizer.texts_to_sequences(X_train['Title'].values)\n",
        "train_text = text_tokenizer.texts_to_sequences(X_train['Review Text'].values)\n",
        "validation_title = title_tokenizer.texts_to_sequences(X_validation['Title'].values)\n",
        "validation_text  = text_tokenizer.texts_to_sequences(X_validation['Review Text'].values)"
      ],
      "execution_count": 0,
      "outputs": []
    },
    {
      "metadata": {
        "id": "39r7ZWtXLD_r",
        "colab_type": "code",
        "colab": {}
      },
      "cell_type": "code",
      "source": [
        "title_vocab_size = len(title_tokenizer.word_index) + 1\n",
        "text_vocab_size  = len(text_tokenizer.word_index) + 1"
      ],
      "execution_count": 0,
      "outputs": []
    },
    {
      "metadata": {
        "id": "yssBAV98LFNs",
        "colab_type": "code",
        "colab": {}
      },
      "cell_type": "code",
      "source": [
        "title_max_length = 300\n",
        "text_max_length  = 1000"
      ],
      "execution_count": 0,
      "outputs": []
    },
    {
      "metadata": {
        "id": "Anss0wagLGbF",
        "colab_type": "code",
        "colab": {}
      },
      "cell_type": "code",
      "source": [
        "train_title = pad_sequences(train_title, padding = 'post', maxlen = title_max_length)\n",
        "train_text  = pad_sequences(train_text, padding = 'post', maxlen = text_max_length)\n",
        "validation_title = pad_sequences(validation_title, padding = 'post', maxlen = title_max_length)\n",
        "validation_text  = pad_sequences(validation_text, padding = 'post', maxlen = text_max_length)"
      ],
      "execution_count": 0,
      "outputs": []
    },
    {
      "metadata": {
        "id": "IG_Tux1qLJE2",
        "colab_type": "text"
      },
      "cell_type": "markdown",
      "source": [
        "## Predicting with only Title"
      ]
    },
    {
      "metadata": {
        "id": "F6VqcjwvLH8D",
        "colab_type": "code",
        "colab": {
          "base_uri": "https://localhost:8080/",
          "height": 119
        },
        "outputId": "ceaa14cf-3011-4670-af88-9a2bc9986dbb"
      },
      "cell_type": "code",
      "source": [
        "model = Sequential()\n",
        "model.add(Embedding(input_dim = title_vocab_size, output_dim = 100, input_length = title_max_length))\n",
        "model.add(GlobalMaxPooling1D())\n",
        "model.add(Dense(64, activation = 'relu'))\n",
        "model.add(Dense(64, activation = 'relu'))\n",
        "model.add(Dropout(0.2))\n",
        "model.add(Dense(32, activation = 'relu'))\n",
        "model.add(Dense(32, activation = 'relu'))\n",
        "model.add(Dropout(0.2))\n",
        "model.add(Dense(20, activation = 'sigmoid'))"
      ],
      "execution_count": 39,
      "outputs": [
        {
          "output_type": "stream",
          "text": [
            "WARNING:tensorflow:From /usr/local/lib/python3.6/dist-packages/tensorflow/python/framework/op_def_library.py:263: colocate_with (from tensorflow.python.framework.ops) is deprecated and will be removed in a future version.\n",
            "Instructions for updating:\n",
            "Colocations handled automatically by placer.\n",
            "WARNING:tensorflow:From /usr/local/lib/python3.6/dist-packages/keras/backend/tensorflow_backend.py:3445: calling dropout (from tensorflow.python.ops.nn_ops) with keep_prob is deprecated and will be removed in a future version.\n",
            "Instructions for updating:\n",
            "Please use `rate` instead of `keep_prob`. Rate should be set to `rate = 1 - keep_prob`.\n"
          ],
          "name": "stdout"
        }
      ]
    },
    {
      "metadata": {
        "id": "wFDDeU8NLMkt",
        "colab_type": "code",
        "colab": {}
      },
      "cell_type": "code",
      "source": [
        "model.compile(\n",
        "    loss = 'categorical_crossentropy',\n",
        "    optimizer = 'adam',\n",
        "    metrics = ['accuracy']\n",
        ")"
      ],
      "execution_count": 0,
      "outputs": []
    },
    {
      "metadata": {
        "id": "pOtuqP-HLb71",
        "colab_type": "code",
        "colab": {}
      },
      "cell_type": "code",
      "source": [
        "from sklearn.preprocessing import LabelEncoder"
      ],
      "execution_count": 0,
      "outputs": []
    },
    {
      "metadata": {
        "id": "fir-1uuALdq0",
        "colab_type": "code",
        "colab": {}
      },
      "cell_type": "code",
      "source": [
        "label_encoder = LabelEncoder().fit(y.values)"
      ],
      "execution_count": 0,
      "outputs": []
    },
    {
      "metadata": {
        "id": "C56I7BwCLfJN",
        "colab_type": "code",
        "colab": {}
      },
      "cell_type": "code",
      "source": [
        "y_train = to_categorical(label_encoder.transform(y_train), num_classes = 20)\n",
        "y_validation = to_categorical(label_encoder.transform(y_validation), num_classes = 20)"
      ],
      "execution_count": 0,
      "outputs": []
    },
    {
      "metadata": {
        "id": "i3QuJDsILhIz",
        "colab_type": "code",
        "colab": {
          "base_uri": "https://localhost:8080/",
          "height": 357
        },
        "outputId": "1dde6eef-86cb-4f91-deca-ff367af37f76"
      },
      "cell_type": "code",
      "source": [
        "model.fit(train_title, y_train, validation_data = (validation_title, y_validation), epochs = 100, verbose = 1, callbacks = [\n",
        "    ModelCheckpoint(\n",
        "        'title_model.h5',\n",
        "        monitor = 'val_acc',\n",
        "        mode = 'max'\n",
        "    ),\n",
        "    EarlyStopping(\n",
        "        monitor = 'val_acc',\n",
        "        mode = 'max'\n",
        "    )\n",
        "])"
      ],
      "execution_count": 44,
      "outputs": [
        {
          "output_type": "stream",
          "text": [
            "WARNING:tensorflow:From /usr/local/lib/python3.6/dist-packages/tensorflow/python/ops/math_ops.py:3066: to_int32 (from tensorflow.python.ops.math_ops) is deprecated and will be removed in a future version.\n",
            "Instructions for updating:\n",
            "Use tf.cast instead.\n",
            "WARNING:tensorflow:From /usr/local/lib/python3.6/dist-packages/tensorflow/python/ops/math_grad.py:102: div (from tensorflow.python.ops.math_ops) is deprecated and will be removed in a future version.\n",
            "Instructions for updating:\n",
            "Deprecated in favor of operator or tf.math.divide.\n",
            "Train on 15729 samples, validate on 3933 samples\n",
            "Epoch 1/100\n",
            "15729/15729 [==============================] - 6s 411us/step - loss: 2.3662 - acc: 0.2607 - val_loss: 2.1330 - val_acc: 0.2883\n",
            "Epoch 2/100\n",
            "15729/15729 [==============================] - 4s 262us/step - loss: 2.0877 - acc: 0.2893 - val_loss: 1.9937 - val_acc: 0.2998\n",
            "Epoch 3/100\n",
            "15729/15729 [==============================] - 4s 261us/step - loss: 1.9317 - acc: 0.3168 - val_loss: 1.9516 - val_acc: 0.3285\n",
            "Epoch 4/100\n",
            "15729/15729 [==============================] - 4s 261us/step - loss: 1.8157 - acc: 0.3694 - val_loss: 1.9346 - val_acc: 0.3758\n",
            "Epoch 5/100\n",
            "15729/15729 [==============================] - 4s 261us/step - loss: 1.6991 - acc: 0.4265 - val_loss: 1.9143 - val_acc: 0.3888\n",
            "Epoch 6/100\n",
            "15729/15729 [==============================] - 4s 261us/step - loss: 1.5969 - acc: 0.4581 - val_loss: 1.9457 - val_acc: 0.3819\n"
          ],
          "name": "stdout"
        },
        {
          "output_type": "execute_result",
          "data": {
            "text/plain": [
              "<keras.callbacks.History at 0x7f2acfc74d68>"
            ]
          },
          "metadata": {
            "tags": []
          },
          "execution_count": 44
        }
      ]
    },
    {
      "metadata": {
        "id": "jFsxtt_NLjKj",
        "colab_type": "code",
        "colab": {}
      },
      "cell_type": "code",
      "source": [
        "from keras.models import load_model"
      ],
      "execution_count": 0,
      "outputs": []
    },
    {
      "metadata": {
        "id": "bz1PoA5uNCdz",
        "colab_type": "code",
        "colab": {}
      },
      "cell_type": "code",
      "source": [
        "model = load_model('title_model.h5')"
      ],
      "execution_count": 0,
      "outputs": []
    },
    {
      "metadata": {
        "id": "fFjsZODENj9b",
        "colab_type": "code",
        "colab": {
          "base_uri": "https://localhost:8080/",
          "height": 442
        },
        "outputId": "77a82e2e-9f1e-4ada-c895-e4f35754b0ed"
      },
      "cell_type": "code",
      "source": [
        "model.summary()"
      ],
      "execution_count": 47,
      "outputs": [
        {
          "output_type": "stream",
          "text": [
            "_________________________________________________________________\n",
            "Layer (type)                 Output Shape              Param #   \n",
            "=================================================================\n",
            "embedding_1 (Embedding)      (None, 300, 100)          382600    \n",
            "_________________________________________________________________\n",
            "global_max_pooling1d_1 (Glob (None, 100)               0         \n",
            "_________________________________________________________________\n",
            "dense_1 (Dense)              (None, 64)                6464      \n",
            "_________________________________________________________________\n",
            "dense_2 (Dense)              (None, 64)                4160      \n",
            "_________________________________________________________________\n",
            "dropout_1 (Dropout)          (None, 64)                0         \n",
            "_________________________________________________________________\n",
            "dense_3 (Dense)              (None, 32)                2080      \n",
            "_________________________________________________________________\n",
            "dense_4 (Dense)              (None, 32)                1056      \n",
            "_________________________________________________________________\n",
            "dropout_2 (Dropout)          (None, 32)                0         \n",
            "_________________________________________________________________\n",
            "dense_5 (Dense)              (None, 20)                660       \n",
            "=================================================================\n",
            "Total params: 397,020\n",
            "Trainable params: 397,020\n",
            "Non-trainable params: 0\n",
            "_________________________________________________________________\n"
          ],
          "name": "stdout"
        }
      ]
    },
    {
      "metadata": {
        "id": "hrkhIcB7Nnkk",
        "colab_type": "code",
        "colab": {
          "base_uri": "https://localhost:8080/",
          "height": 85
        },
        "outputId": "4cd672c0-e5ba-402b-ce75-077dca6cd541"
      },
      "cell_type": "code",
      "source": [
        "train_loss, train_accuracy = model.evaluate(train_title, y_train)\n",
        "validation_loss, validation_accuracy = model.evaluate(validation_title, y_validation)\n",
        "print(\"Train :\", train_accuracy)\n",
        "print(\"Validation :\", validation_accuracy)"
      ],
      "execution_count": 48,
      "outputs": [
        {
          "output_type": "stream",
          "text": [
            "15729/15729 [==============================] - 1s 60us/step\n",
            "3933/3933 [==============================] - 0s 56us/step\n",
            "Train : 0.4992052895943672\n",
            "Validation : 0.38189677084459167\n"
          ],
          "name": "stdout"
        }
      ]
    },
    {
      "metadata": {
        "id": "lyXKuofMOKAf",
        "colab_type": "text"
      },
      "cell_type": "markdown",
      "source": [
        "## Predicting with only Review Text"
      ]
    },
    {
      "metadata": {
        "id": "KHTtq1E_Nxts",
        "colab_type": "code",
        "colab": {}
      },
      "cell_type": "code",
      "source": [
        "model = Sequential()\n",
        "model.add(Embedding(input_dim = text_vocab_size, output_dim = 512, input_length = text_max_length))\n",
        "model.add(GlobalMaxPooling1D())\n",
        "model.add(Dense(256, activation = 'relu'))\n",
        "model.add(Dense(256, activation = 'relu'))\n",
        "model.add(Dropout(0.2))\n",
        "model.add(Dense(128, activation = 'relu'))\n",
        "model.add(Dense(128, activation = 'relu'))\n",
        "model.add(Dropout(0.2))\n",
        "model.add(Dense(20, activation = 'sigmoid'))"
      ],
      "execution_count": 0,
      "outputs": []
    },
    {
      "metadata": {
        "id": "hzmw0ih4OO6V",
        "colab_type": "code",
        "colab": {}
      },
      "cell_type": "code",
      "source": [
        "model.compile(\n",
        "    loss = 'categorical_crossentropy',\n",
        "    optimizer = 'adam',\n",
        "    metrics = ['accuracy']\n",
        ")"
      ],
      "execution_count": 0,
      "outputs": []
    },
    {
      "metadata": {
        "id": "Upz-TMoGOSZL",
        "colab_type": "code",
        "colab": {
          "base_uri": "https://localhost:8080/",
          "height": 442
        },
        "outputId": "b5f84b36-6220-423b-ccbb-29365f29043b"
      },
      "cell_type": "code",
      "source": [
        "model.summary()"
      ],
      "execution_count": 51,
      "outputs": [
        {
          "output_type": "stream",
          "text": [
            "_________________________________________________________________\n",
            "Layer (type)                 Output Shape              Param #   \n",
            "=================================================================\n",
            "embedding_2 (Embedding)      (None, 1000, 512)         7293440   \n",
            "_________________________________________________________________\n",
            "global_max_pooling1d_2 (Glob (None, 512)               0         \n",
            "_________________________________________________________________\n",
            "dense_6 (Dense)              (None, 256)               131328    \n",
            "_________________________________________________________________\n",
            "dense_7 (Dense)              (None, 256)               65792     \n",
            "_________________________________________________________________\n",
            "dropout_3 (Dropout)          (None, 256)               0         \n",
            "_________________________________________________________________\n",
            "dense_8 (Dense)              (None, 128)               32896     \n",
            "_________________________________________________________________\n",
            "dense_9 (Dense)              (None, 128)               16512     \n",
            "_________________________________________________________________\n",
            "dropout_4 (Dropout)          (None, 128)               0         \n",
            "_________________________________________________________________\n",
            "dense_10 (Dense)             (None, 20)                2580      \n",
            "=================================================================\n",
            "Total params: 7,542,548\n",
            "Trainable params: 7,542,548\n",
            "Non-trainable params: 0\n",
            "_________________________________________________________________\n"
          ],
          "name": "stdout"
        }
      ]
    },
    {
      "metadata": {
        "id": "DWE5ezYWOTmM",
        "colab_type": "code",
        "colab": {
          "base_uri": "https://localhost:8080/",
          "height": 221
        },
        "outputId": "c63a7639-6386-4336-fc23-abc36ccbf116"
      },
      "cell_type": "code",
      "source": [
        "model.fit(train_text, y_train, validation_data = (validation_text, y_validation), epochs = 100, verbose = 1, callbacks = [\n",
        "    ModelCheckpoint(\n",
        "        'text_model.h5',\n",
        "        monitor = 'val_acc',\n",
        "        mode = 'max'\n",
        "    ),\n",
        "    EarlyStopping(\n",
        "        monitor = 'val_acc',\n",
        "        mode = 'max'\n",
        "    )\n",
        "])"
      ],
      "execution_count": 52,
      "outputs": [
        {
          "output_type": "stream",
          "text": [
            "Train on 15729 samples, validate on 3933 samples\n",
            "Epoch 1/100\n",
            "15729/15729 [==============================] - 12s 761us/step - loss: 1.9503 - acc: 0.3334 - val_loss: 1.3647 - val_acc: 0.5411\n",
            "Epoch 2/100\n",
            "15729/15729 [==============================] - 11s 692us/step - loss: 1.2843 - acc: 0.5641 - val_loss: 1.1983 - val_acc: 0.5830\n",
            "Epoch 3/100\n",
            "15729/15729 [==============================] - 11s 689us/step - loss: 1.0615 - acc: 0.6218 - val_loss: 1.1583 - val_acc: 0.5998\n",
            "Epoch 4/100\n",
            "15729/15729 [==============================] - 11s 689us/step - loss: 0.8883 - acc: 0.6728 - val_loss: 1.2190 - val_acc: 0.6156\n",
            "Epoch 5/100\n",
            "15729/15729 [==============================] - 11s 689us/step - loss: 0.7203 - acc: 0.7418 - val_loss: 1.3601 - val_acc: 0.6074\n"
          ],
          "name": "stdout"
        },
        {
          "output_type": "execute_result",
          "data": {
            "text/plain": [
              "<keras.callbacks.History at 0x7f2ac6e48d68>"
            ]
          },
          "metadata": {
            "tags": []
          },
          "execution_count": 52
        }
      ]
    },
    {
      "metadata": {
        "id": "1lims9AQOe59",
        "colab_type": "code",
        "colab": {}
      },
      "cell_type": "code",
      "source": [
        "model = load_model('text_model.h5')"
      ],
      "execution_count": 0,
      "outputs": []
    },
    {
      "metadata": {
        "id": "TAogK520UBQ6",
        "colab_type": "code",
        "colab": {
          "base_uri": "https://localhost:8080/",
          "height": 85
        },
        "outputId": "d11cf7c7-0da3-49ab-c462-3d9ced3ac9fb"
      },
      "cell_type": "code",
      "source": [
        "train_loss, train_accuracy = model.evaluate(train_text, y_train)\n",
        "validation_loss, validation_accuracy = model.evaluate(validation_text, y_validation)\n",
        "print(\"Train :\", train_accuracy)\n",
        "print(\"Validation :\", validation_accuracy)"
      ],
      "execution_count": 54,
      "outputs": [
        {
          "output_type": "stream",
          "text": [
            "15729/15729 [==============================] - 2s 127us/step\n",
            "3933/3933 [==============================] - 0s 105us/step\n",
            "Train : 0.8074893508956971\n",
            "Validation : 0.6074243580873704\n"
          ],
          "name": "stdout"
        }
      ]
    },
    {
      "metadata": {
        "id": "PFXOLYzjUF1F",
        "colab_type": "text"
      },
      "cell_type": "markdown",
      "source": [
        "## Predicting with full data"
      ]
    },
    {
      "metadata": {
        "id": "n_U6eO7DUDQb",
        "colab_type": "code",
        "colab": {}
      },
      "cell_type": "code",
      "source": [
        "X_train = X_train.drop(['Clothing ID'], axis = 1)\n",
        "X_validation = X_validation.drop(['Clothing ID'], axis = 1)"
      ],
      "execution_count": 0,
      "outputs": []
    },
    {
      "metadata": {
        "id": "ekwqvP4FUJFz",
        "colab_type": "code",
        "colab": {}
      },
      "cell_type": "code",
      "source": [
        "X_train, X_validation = (\n",
        "    X_train.drop(['Title', 'Review Text'], axis = 1),\n",
        "    X_validation.drop(['Title', 'Review Text'], axis = 1)\n",
        ")"
      ],
      "execution_count": 0,
      "outputs": []
    },
    {
      "metadata": {
        "id": "RmeIXQC2UKPD",
        "colab_type": "code",
        "colab": {}
      },
      "cell_type": "code",
      "source": [
        "X_train['Division Name'] = LabelEncoder().fit(X['Division Name']).transform(X_train['Division Name'])\n",
        "X_validation['Division Name'] = LabelEncoder().fit(X['Division Name']).transform(X_validation['Division Name'])"
      ],
      "execution_count": 0,
      "outputs": []
    },
    {
      "metadata": {
        "id": "QXKvZEhlULXh",
        "colab_type": "code",
        "colab": {}
      },
      "cell_type": "code",
      "source": [
        "X_train['Department Name'] = LabelEncoder().fit(X['Department Name']).transform(X_train['Department Name'])\n",
        "X_validation['Department Name'] = LabelEncoder().fit(X['Department Name']).transform(X_validation['Department Name'])"
      ],
      "execution_count": 0,
      "outputs": []
    },
    {
      "metadata": {
        "id": "rA711loeUMmL",
        "colab_type": "code",
        "colab": {}
      },
      "cell_type": "code",
      "source": [
        "from keras.models import Model\n",
        "from keras.layers import Input\n",
        "from keras.layers import concatenate\n",
        "\n",
        "def _text_block(x, vocab_size, base_num = 512):\n",
        "    x = Embedding(input_dim = vocab_size, output_dim = base_num)(x)\n",
        "    x = GlobalMaxPooling1D()(x)\n",
        "    x = Dense(base_num // 2, activation = 'relu')(x)\n",
        "    x = Dense(base_num // 2, activation = 'relu')(x)\n",
        "    x = Dropout(0.2)(x)\n",
        "    x = Dense(base_num // 4, activation = 'relu')(x)\n",
        "    x = Dense(base_num // 4, activation = 'relu')(x)\n",
        "    return x\n",
        "\n",
        "def _model():\n",
        "    basic_input = Input(shape = (6, ))\n",
        "    title_input = Input(shape = (300, ))\n",
        "    text_input  = Input(shape = (1000, ))\n",
        "    basic_x = Dense(6, activation = 'relu')(basic_input)\n",
        "    title_x = _text_block(title_input, vocab_size = title_vocab_size, base_num = 128)\n",
        "    text_x  = _text_block(text_input, vocab_size = text_vocab_size, base_num = 512)\n",
        "    x = concatenate([basic_x, title_x, text_x])\n",
        "    x = Dense(512, activation = 'relu')(x)\n",
        "    x = Dense(256, activation = 'relu')(x)\n",
        "    x = Dropout(0.2)(x)\n",
        "    x = Dense(128, activation = 'relu')(x)\n",
        "    x = Dense(64, activation = 'relu')(x)\n",
        "    x = Dropout(0.2)(x)\n",
        "    output = Dense(20, activation = 'sigmoid')(x)\n",
        "    return Model(inputs = [basic_input, title_input, text_input], outputs = output)"
      ],
      "execution_count": 0,
      "outputs": []
    },
    {
      "metadata": {
        "id": "f0_sywy_UOT7",
        "colab_type": "code",
        "colab": {}
      },
      "cell_type": "code",
      "source": [
        "model = _model()"
      ],
      "execution_count": 0,
      "outputs": []
    },
    {
      "metadata": {
        "id": "vCuO9-PgUQME",
        "colab_type": "code",
        "colab": {}
      },
      "cell_type": "code",
      "source": [
        "model.compile(\n",
        "    loss = 'categorical_crossentropy',\n",
        "    optimizer = 'adam',\n",
        "    metrics = ['accuracy']\n",
        ")"
      ],
      "execution_count": 0,
      "outputs": []
    },
    {
      "metadata": {
        "id": "tyJ70o_3URYh",
        "colab_type": "code",
        "colab": {
          "base_uri": "https://localhost:8080/",
          "height": 187
        },
        "outputId": "5842fe4d-aa72-43d5-d52d-7865427b1f1c"
      },
      "cell_type": "code",
      "source": [
        "model.fit(\n",
        "    [X_train.values, train_title, train_text],\n",
        "    y_train,\n",
        "    validation_data = (\n",
        "        [X_validation.values, validation_title, validation_text],\n",
        "        y_validation\n",
        "    ),\n",
        "    epochs = 100,\n",
        "    callbacks = [\n",
        "        ModelCheckpoint(\n",
        "            'model.h5',\n",
        "            monitor = 'val_acc',\n",
        "            mode = 'max'\n",
        "        ),\n",
        "        EarlyStopping(\n",
        "            monitor = 'val_acc',\n",
        "            mode = 'max'\n",
        "        )\n",
        "    ]\n",
        ")"
      ],
      "execution_count": 62,
      "outputs": [
        {
          "output_type": "stream",
          "text": [
            "Train on 15729 samples, validate on 3933 samples\n",
            "Epoch 1/100\n",
            "15729/15729 [==============================] - 16s 988us/step - loss: 2.0468 - acc: 0.3240 - val_loss: 1.2864 - val_acc: 0.5161\n",
            "Epoch 2/100\n",
            "15729/15729 [==============================] - 14s 898us/step - loss: 1.1278 - acc: 0.5534 - val_loss: 0.9879 - val_acc: 0.5848\n",
            "Epoch 3/100\n",
            "15729/15729 [==============================] - 14s 896us/step - loss: 0.8550 - acc: 0.6322 - val_loss: 0.7780 - val_acc: 0.6593\n",
            "Epoch 4/100\n",
            "15729/15729 [==============================] - 14s 896us/step - loss: 0.7320 - acc: 0.6707 - val_loss: 0.7778 - val_acc: 0.6573\n"
          ],
          "name": "stdout"
        },
        {
          "output_type": "execute_result",
          "data": {
            "text/plain": [
              "<keras.callbacks.History at 0x7f2ac5c42d68>"
            ]
          },
          "metadata": {
            "tags": []
          },
          "execution_count": 62
        }
      ]
    },
    {
      "metadata": {
        "id": "38nc0AkOUTW7",
        "colab_type": "code",
        "colab": {}
      },
      "cell_type": "code",
      "source": [
        "model = load_model('model.h5')"
      ],
      "execution_count": 0,
      "outputs": []
    },
    {
      "metadata": {
        "id": "bg6vKRxWUgnz",
        "colab_type": "code",
        "colab": {
          "base_uri": "https://localhost:8080/",
          "height": 85
        },
        "outputId": "3e7516d8-3b05-4ee6-9755-8b19b91b3903"
      },
      "cell_type": "code",
      "source": [
        "train_loss, train_accuracy = model.evaluate([X_train.values, train_title, train_text], y_train)\n",
        "validation_loss, validation_accuracy = model.evaluate([X_validation.values, validation_title, validation_text], y_validation)\n",
        "print(\"Train :\", train_accuracy)\n",
        "print(\"Validation :\", validation_accuracy)"
      ],
      "execution_count": 64,
      "outputs": [
        {
          "output_type": "stream",
          "text": [
            "15729/15729 [==============================] - 3s 167us/step\n",
            "3933/3933 [==============================] - 1s 136us/step\n",
            "Train : 0.7034776527660772\n",
            "Validation : 0.6572590897079039\n"
          ],
          "name": "stdout"
        }
      ]
    },
    {
      "metadata": {
        "id": "cTIzEomnUikr",
        "colab_type": "code",
        "colab": {}
      },
      "cell_type": "code",
      "source": [
        ""
      ],
      "execution_count": 0,
      "outputs": []
    }
  ]
}