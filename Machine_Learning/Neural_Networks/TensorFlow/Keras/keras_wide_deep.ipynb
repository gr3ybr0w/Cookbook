{
  "nbformat": 4,
  "nbformat_minor": 0,
  "metadata": {
    "colab": {
      "name": "Copy of keras-wide-deep.ipynb",
      "version": "0.3.2",
      "provenance": [],
      "include_colab_link": true
    },
    "kernelspec": {
      "display_name": "Python 3",
      "language": "python",
      "name": "python3"
    }
  },
  "cells": [
    {
      "cell_type": "markdown",
      "metadata": {
        "id": "view-in-github",
        "colab_type": "text"
      },
      "source": [
        "<a href=\"https://colab.research.google.com/github/gr3ybr0w/cookbook/blob/master/Machine_Learning/Neural_Networks/TensorFlow/Keras/keras_wide_deep.ipynb\" target=\"_parent\"><img src=\"https://colab.research.google.com/assets/colab-badge.svg\" alt=\"Open In Colab\"/></a>"
      ]
    },
    {
      "metadata": {
        "id": "1xcdgy1bl9FQ",
        "colab_type": "text"
      },
      "cell_type": "markdown",
      "source": [
        "To run this model directly in the browser with zero setup, open it in [Colab here](https://colab.research.google.com/github/sararob/keras-wine-model/blob/master/keras-wide-deep.ipynb)."
      ]
    },
    {
      "metadata": {
        "colab_type": "code",
        "id": "frTMl3sShA3P",
        "colab": {}
      },
      "cell_type": "code",
      "source": [
        "from __future__ import absolute_import\n",
        "from __future__ import division\n",
        "from __future__ import print_function"
      ],
      "execution_count": 0,
      "outputs": []
    },
    {
      "metadata": {
        "colab_type": "code",
        "id": "783h64rGhA3T",
        "outputId": "be5cf4d1-527b-48c3-dec4-7dae1c695875",
        "colab": {
          "base_uri": "https://localhost:8080/",
          "height": 34
        }
      },
      "cell_type": "code",
      "source": [
        "import itertools\n",
        "import os\n",
        "import math\n",
        "import numpy as np\n",
        "import pandas as pd\n",
        "import tensorflow as tf\n",
        "\n",
        "from sklearn.preprocessing import LabelEncoder\n",
        "from tensorflow import keras\n",
        "layers = keras.layers\n",
        "\n",
        "print(\"You have TensorFlow version\", tf.__version__)"
      ],
      "execution_count": 0,
      "outputs": [
        {
          "output_type": "stream",
          "text": [
            "You have TensorFlow version 1.12.0\n"
          ],
          "name": "stdout"
        }
      ]
    },
    {
      "metadata": {
        "id": "Gt0SZ_l4l9Ft",
        "colab_type": "code",
        "outputId": "3c9d8819-83af-4b74-9b3b-eb02fbdebfaf",
        "colab": {
          "base_uri": "https://localhost:8080/",
          "height": 51
        }
      },
      "cell_type": "code",
      "source": [
        "# Get the data: original source is here: https://www.kaggle.com/zynicide/wine-reviews/data\n",
        "URL = \"https://storage.googleapis.com/sara-cloud-ml/wine_data.csv\"\n",
        "path = tf.keras.utils.get_file(URL.split('/')[-1], URL)\n"
      ],
      "execution_count": 0,
      "outputs": [
        {
          "output_type": "stream",
          "text": [
            "Downloading data from https://storage.googleapis.com/sara-cloud-ml/wine_data.csv\n",
            "49790976/49783940 [==============================] - 1s 0us/step\n"
          ],
          "name": "stdout"
        }
      ]
    },
    {
      "metadata": {
        "colab_type": "code",
        "id": "c7te21f7hA3V",
        "colab": {}
      },
      "cell_type": "code",
      "source": [
        "# Convert the data to a Pandas data frame\n",
        "data = pd.read_csv(path)"
      ],
      "execution_count": 0,
      "outputs": []
    },
    {
      "metadata": {
        "colab_type": "code",
        "id": "chAbp3ryhA3X",
        "outputId": "600b36d1-3a79-4e89-a326-92f914aed65f",
        "colab": {
          "base_uri": "https://localhost:8080/",
          "height": 204
        }
      },
      "cell_type": "code",
      "source": [
        "# Shuffle the data\n",
        "data = data.sample(frac=1)\n",
        "\n",
        "# Print the first 5 rows\n",
        "data.head()"
      ],
      "execution_count": 0,
      "outputs": [
        {
          "output_type": "execute_result",
          "data": {
            "text/html": [
              "<div>\n",
              "<style scoped>\n",
              "    .dataframe tbody tr th:only-of-type {\n",
              "        vertical-align: middle;\n",
              "    }\n",
              "\n",
              "    .dataframe tbody tr th {\n",
              "        vertical-align: top;\n",
              "    }\n",
              "\n",
              "    .dataframe thead th {\n",
              "        text-align: right;\n",
              "    }\n",
              "</style>\n",
              "<table border=\"1\" class=\"dataframe\">\n",
              "  <thead>\n",
              "    <tr style=\"text-align: right;\">\n",
              "      <th></th>\n",
              "      <th>Unnamed: 0</th>\n",
              "      <th>country</th>\n",
              "      <th>description</th>\n",
              "      <th>designation</th>\n",
              "      <th>points</th>\n",
              "      <th>price</th>\n",
              "      <th>province</th>\n",
              "      <th>region_1</th>\n",
              "      <th>region_2</th>\n",
              "      <th>variety</th>\n",
              "      <th>winery</th>\n",
              "    </tr>\n",
              "  </thead>\n",
              "  <tbody>\n",
              "    <tr>\n",
              "      <th>52565</th>\n",
              "      <td>52565</td>\n",
              "      <td>France</td>\n",
              "      <td>This is powerful, typical of Les Preuses. Whit...</td>\n",
              "      <td>Les Preuses Grand Cru</td>\n",
              "      <td>94</td>\n",
              "      <td>67.0</td>\n",
              "      <td>Burgundy</td>\n",
              "      <td>Chablis</td>\n",
              "      <td>NaN</td>\n",
              "      <td>Chardonnay</td>\n",
              "      <td>La Chablisienne</td>\n",
              "    </tr>\n",
              "    <tr>\n",
              "      <th>13451</th>\n",
              "      <td>13451</td>\n",
              "      <td>US</td>\n",
              "      <td>Nice aromatics on this Châteauneuf-du-Pape-ins...</td>\n",
              "      <td>Fleur De Montagne</td>\n",
              "      <td>86</td>\n",
              "      <td>24.0</td>\n",
              "      <td>California</td>\n",
              "      <td>El Dorado</td>\n",
              "      <td>Sierra Foothills</td>\n",
              "      <td>Rhône-style Red Blend</td>\n",
              "      <td>Sierra Vista</td>\n",
              "    </tr>\n",
              "    <tr>\n",
              "      <th>113108</th>\n",
              "      <td>113108</td>\n",
              "      <td>US</td>\n",
              "      <td>There's lots of harsh acidity and tannins in t...</td>\n",
              "      <td>Ashley's Vineyard</td>\n",
              "      <td>84</td>\n",
              "      <td>50.0</td>\n",
              "      <td>California</td>\n",
              "      <td>Sta. Rita Hills</td>\n",
              "      <td>Central Coast</td>\n",
              "      <td>Pinot Noir</td>\n",
              "      <td>Fess Parker</td>\n",
              "    </tr>\n",
              "    <tr>\n",
              "      <th>139525</th>\n",
              "      <td>139525</td>\n",
              "      <td>France</td>\n",
              "      <td>Rich and ripe, with buttery, toasty aromas tha...</td>\n",
              "      <td>Les Folatiéres Premier Cru</td>\n",
              "      <td>92</td>\n",
              "      <td>100.0</td>\n",
              "      <td>Burgundy</td>\n",
              "      <td>Puligny-Montrachet</td>\n",
              "      <td>NaN</td>\n",
              "      <td>Chardonnay</td>\n",
              "      <td>Lucien Le Moine</td>\n",
              "    </tr>\n",
              "    <tr>\n",
              "      <th>1928</th>\n",
              "      <td>1928</td>\n",
              "      <td>US</td>\n",
              "      <td>This Merlot is dry, full-bodied and delicious ...</td>\n",
              "      <td>Grand Reserve</td>\n",
              "      <td>90</td>\n",
              "      <td>28.0</td>\n",
              "      <td>California</td>\n",
              "      <td>Sonoma County</td>\n",
              "      <td>Sonoma</td>\n",
              "      <td>Merlot</td>\n",
              "      <td>Kendall-Jackson</td>\n",
              "    </tr>\n",
              "  </tbody>\n",
              "</table>\n",
              "</div>"
            ],
            "text/plain": [
              "        Unnamed: 0 country                                        description  \\\n",
              "52565        52565  France  This is powerful, typical of Les Preuses. Whit...   \n",
              "13451        13451      US  Nice aromatics on this Châteauneuf-du-Pape-ins...   \n",
              "113108      113108      US  There's lots of harsh acidity and tannins in t...   \n",
              "139525      139525  France  Rich and ripe, with buttery, toasty aromas tha...   \n",
              "1928          1928      US  This Merlot is dry, full-bodied and delicious ...   \n",
              "\n",
              "                       designation  points  price    province  \\\n",
              "52565        Les Preuses Grand Cru      94   67.0    Burgundy   \n",
              "13451            Fleur De Montagne      86   24.0  California   \n",
              "113108           Ashley's Vineyard      84   50.0  California   \n",
              "139525  Les Folatiéres Premier Cru      92  100.0    Burgundy   \n",
              "1928                 Grand Reserve      90   28.0  California   \n",
              "\n",
              "                  region_1          region_2                variety  \\\n",
              "52565              Chablis               NaN             Chardonnay   \n",
              "13451            El Dorado  Sierra Foothills  Rhône-style Red Blend   \n",
              "113108     Sta. Rita Hills     Central Coast             Pinot Noir   \n",
              "139525  Puligny-Montrachet               NaN             Chardonnay   \n",
              "1928         Sonoma County            Sonoma                 Merlot   \n",
              "\n",
              "                 winery  \n",
              "52565   La Chablisienne  \n",
              "13451      Sierra Vista  \n",
              "113108      Fess Parker  \n",
              "139525  Lucien Le Moine  \n",
              "1928    Kendall-Jackson  "
            ]
          },
          "metadata": {
            "tags": []
          },
          "execution_count": 5
        }
      ]
    },
    {
      "metadata": {
        "id": "pOVv0MSgl9GA",
        "colab_type": "code",
        "colab": {}
      },
      "cell_type": "code",
      "source": [
        "# Do some preprocessing to limit the # of wine varities in the dataset\n",
        "data = data[pd.notnull(data['country'])]\n",
        "data = data[pd.notnull(data['price'])]\n",
        "data = data.drop(data.columns[0], axis=1) \n",
        "\n",
        "variety_threshold = 500 # Anything that occurs less than this will be removed.\n",
        "value_counts = data['variety'].value_counts()\n",
        "to_remove = value_counts[value_counts <= variety_threshold].index\n",
        "data.replace(to_remove, np.nan, inplace=True)\n",
        "data = data[pd.notnull(data['variety'])]"
      ],
      "execution_count": 0,
      "outputs": []
    },
    {
      "metadata": {
        "colab_type": "code",
        "id": "h_SDal0khA3n",
        "outputId": "6bb4ee5c-e537-4eb5-fe8c-6a2e2b476e42",
        "scrolled": true,
        "colab": {
          "base_uri": "https://localhost:8080/",
          "height": 51
        }
      },
      "cell_type": "code",
      "source": [
        "# Split data into train and test\n",
        "train_size = int(len(data) * .8)\n",
        "print (\"Train size: %d\" % train_size)\n",
        "print (\"Test size: %d\" % (len(data) - train_size))"
      ],
      "execution_count": 0,
      "outputs": [
        {
          "output_type": "stream",
          "text": [
            "Train size: 95646\n",
            "Test size: 23912\n"
          ],
          "name": "stdout"
        }
      ]
    },
    {
      "metadata": {
        "colab_type": "code",
        "id": "anD38iilhA3r",
        "colab": {}
      },
      "cell_type": "code",
      "source": [
        "# Train features\n",
        "description_train = data['description'][:train_size]\n",
        "variety_train = data['variety'][:train_size]\n",
        "\n",
        "# Train labels\n",
        "labels_train = data['price'][:train_size]\n",
        "\n",
        "# Test features\n",
        "description_test = data['description'][train_size:]\n",
        "variety_test = data['variety'][train_size:]\n",
        "\n",
        "# Test labels\n",
        "labels_test = data['price'][train_size:]"
      ],
      "execution_count": 0,
      "outputs": []
    },
    {
      "metadata": {
        "colab_type": "code",
        "id": "z4GblctFhA3u",
        "colab": {}
      },
      "cell_type": "code",
      "source": [
        "# Create a tokenizer to preprocess our text descriptions\n",
        "vocab_size = 12000 # This is a hyperparameter, experiment with different values for your dataset\n",
        "tokenize = keras.preprocessing.text.Tokenizer(num_words=vocab_size, char_level=False)\n",
        "tokenize.fit_on_texts(description_train) # only fit on train"
      ],
      "execution_count": 0,
      "outputs": []
    },
    {
      "metadata": {
        "colab_type": "code",
        "id": "YatMLCKXhA3x",
        "colab": {}
      },
      "cell_type": "code",
      "source": [
        "# Wide feature 1: sparse bag of words (bow) vocab_size vector \n",
        "description_bow_train = tokenize.texts_to_matrix(description_train)\n",
        "description_bow_test = tokenize.texts_to_matrix(description_test)"
      ],
      "execution_count": 0,
      "outputs": []
    },
    {
      "metadata": {
        "colab_type": "code",
        "id": "8quTsErLhA3z",
        "colab": {}
      },
      "cell_type": "code",
      "source": [
        "# Wide feature 2: one-hot vector of variety categories\n",
        "\n",
        "# Use sklearn utility to convert label strings to numbered index\n",
        "encoder = LabelEncoder()\n",
        "encoder.fit(variety_train)\n",
        "variety_train = encoder.transform(variety_train)\n",
        "variety_test = encoder.transform(variety_test)\n",
        "num_classes = np.max(variety_train) + 1\n",
        "\n",
        "# Convert labels to one hot\n",
        "variety_train = keras.utils.to_categorical(variety_train, num_classes)\n",
        "variety_test = keras.utils.to_categorical(variety_test, num_classes)"
      ],
      "execution_count": 0,
      "outputs": []
    },
    {
      "metadata": {
        "id": "i8YlW40wl9Gc",
        "colab_type": "code",
        "colab": {}
      },
      "cell_type": "code",
      "source": [
        "# Define our wide model with the functional API\n",
        "bow_inputs = layers.Input(shape=(vocab_size,))\n",
        "variety_inputs = layers.Input(shape=(num_classes,))\n",
        "merged_layer = layers.concatenate([bow_inputs, variety_inputs])\n",
        "merged_layer = layers.Dense(256, activation='relu')(merged_layer)\n",
        "predictions = layers.Dense(1)(merged_layer)\n",
        "wide_model = keras.Model(inputs=[bow_inputs, variety_inputs], outputs=predictions)"
      ],
      "execution_count": 0,
      "outputs": []
    },
    {
      "metadata": {
        "id": "LDCw16ULl9Gi",
        "colab_type": "code",
        "outputId": "b0a37357-fc7b-44b0-8b33-83fec0ff7e00",
        "colab": {
          "base_uri": "https://localhost:8080/",
          "height": 340
        }
      },
      "cell_type": "code",
      "source": [
        "wide_model.compile(loss='mse', optimizer='adam', metrics=['accuracy'])\n",
        "print(wide_model.summary())"
      ],
      "execution_count": 0,
      "outputs": [
        {
          "output_type": "stream",
          "text": [
            "__________________________________________________________________________________________________\n",
            "Layer (type)                    Output Shape         Param #     Connected to                     \n",
            "==================================================================================================\n",
            "input_1 (InputLayer)            (None, 12000)        0                                            \n",
            "__________________________________________________________________________________________________\n",
            "input_2 (InputLayer)            (None, 40)           0                                            \n",
            "__________________________________________________________________________________________________\n",
            "concatenate (Concatenate)       (None, 12040)        0           input_1[0][0]                    \n",
            "                                                                 input_2[0][0]                    \n",
            "__________________________________________________________________________________________________\n",
            "dense (Dense)                   (None, 256)          3082496     concatenate[0][0]                \n",
            "__________________________________________________________________________________________________\n",
            "dense_1 (Dense)                 (None, 1)            257         dense[0][0]                      \n",
            "==================================================================================================\n",
            "Total params: 3,082,753\n",
            "Trainable params: 3,082,753\n",
            "Non-trainable params: 0\n",
            "__________________________________________________________________________________________________\n",
            "None\n"
          ],
          "name": "stdout"
        }
      ]
    },
    {
      "metadata": {
        "id": "6noOYsu2l9Gp",
        "colab_type": "code",
        "colab": {}
      },
      "cell_type": "code",
      "source": [
        "# Deep model feature: word embeddings of wine descriptions\n",
        "train_embed = tokenize.texts_to_sequences(description_train)\n",
        "test_embed = tokenize.texts_to_sequences(description_test)\n",
        "\n",
        "max_seq_length = 170\n",
        "train_embed = keras.preprocessing.sequence.pad_sequences(\n",
        "    train_embed, maxlen=max_seq_length, padding=\"post\")\n",
        "test_embed = keras.preprocessing.sequence.pad_sequences(\n",
        "    test_embed, maxlen=max_seq_length, padding=\"post\")"
      ],
      "execution_count": 0,
      "outputs": []
    },
    {
      "metadata": {
        "id": "3IxE1abMl9Gt",
        "colab_type": "code",
        "outputId": "caa4acd6-8929-4974-cff8-715c287a4b5a",
        "colab": {
          "base_uri": "https://localhost:8080/",
          "height": 289
        }
      },
      "cell_type": "code",
      "source": [
        "# Define our deep model with the Functional API\n",
        "deep_inputs = layers.Input(shape=(max_seq_length,))\n",
        "embedding = layers.Embedding(vocab_size, 8, input_length=max_seq_length)(deep_inputs)\n",
        "embedding = layers.Flatten()(embedding)\n",
        "embed_out = layers.Dense(1)(embedding)\n",
        "deep_model = keras.Model(inputs=deep_inputs, outputs=embed_out)\n",
        "print(deep_model.summary())"
      ],
      "execution_count": 0,
      "outputs": [
        {
          "output_type": "stream",
          "text": [
            "_________________________________________________________________\n",
            "Layer (type)                 Output Shape              Param #   \n",
            "=================================================================\n",
            "input_3 (InputLayer)         (None, 170)               0         \n",
            "_________________________________________________________________\n",
            "embedding (Embedding)        (None, 170, 8)            96000     \n",
            "_________________________________________________________________\n",
            "flatten (Flatten)            (None, 1360)              0         \n",
            "_________________________________________________________________\n",
            "dense_2 (Dense)              (None, 1)                 1361      \n",
            "=================================================================\n",
            "Total params: 97,361\n",
            "Trainable params: 97,361\n",
            "Non-trainable params: 0\n",
            "_________________________________________________________________\n",
            "None\n"
          ],
          "name": "stdout"
        }
      ]
    },
    {
      "metadata": {
        "id": "wor5P004l9Gy",
        "colab_type": "code",
        "colab": {}
      },
      "cell_type": "code",
      "source": [
        "deep_model.compile(loss='mse',\n",
        "                       optimizer='adam',\n",
        "                       metrics=['accuracy'])"
      ],
      "execution_count": 0,
      "outputs": []
    },
    {
      "metadata": {
        "id": "mLPG5TSbl9G6",
        "colab_type": "code",
        "outputId": "067a3042-5072-4a32-fd2c-769a666c135c",
        "colab": {
          "base_uri": "https://localhost:8080/",
          "height": 561
        }
      },
      "cell_type": "code",
      "source": [
        "# Combine wide and deep into one model\n",
        "merged_out = layers.concatenate([wide_model.output, deep_model.output])\n",
        "merged_out = layers.Dense(1)(merged_out)\n",
        "combined_model = keras.Model(wide_model.input + [deep_model.input], merged_out)\n",
        "print(combined_model.summary())\n",
        "\n",
        "combined_model.compile(loss='mse',\n",
        "                       optimizer='adam',\n",
        "                       metrics=['accuracy'])"
      ],
      "execution_count": 0,
      "outputs": [
        {
          "output_type": "stream",
          "text": [
            "__________________________________________________________________________________________________\n",
            "Layer (type)                    Output Shape         Param #     Connected to                     \n",
            "==================================================================================================\n",
            "input_1 (InputLayer)            (None, 12000)        0                                            \n",
            "__________________________________________________________________________________________________\n",
            "input_2 (InputLayer)            (None, 40)           0                                            \n",
            "__________________________________________________________________________________________________\n",
            "input_3 (InputLayer)            (None, 170)          0                                            \n",
            "__________________________________________________________________________________________________\n",
            "concatenate (Concatenate)       (None, 12040)        0           input_1[0][0]                    \n",
            "                                                                 input_2[0][0]                    \n",
            "__________________________________________________________________________________________________\n",
            "embedding (Embedding)           (None, 170, 8)       96000       input_3[0][0]                    \n",
            "__________________________________________________________________________________________________\n",
            "dense (Dense)                   (None, 256)          3082496     concatenate[0][0]                \n",
            "__________________________________________________________________________________________________\n",
            "flatten (Flatten)               (None, 1360)         0           embedding[0][0]                  \n",
            "__________________________________________________________________________________________________\n",
            "dense_1 (Dense)                 (None, 1)            257         dense[0][0]                      \n",
            "__________________________________________________________________________________________________\n",
            "dense_2 (Dense)                 (None, 1)            1361        flatten[0][0]                    \n",
            "__________________________________________________________________________________________________\n",
            "concatenate_1 (Concatenate)     (None, 2)            0           dense_1[0][0]                    \n",
            "                                                                 dense_2[0][0]                    \n",
            "__________________________________________________________________________________________________\n",
            "dense_3 (Dense)                 (None, 1)            3           concatenate_1[0][0]              \n",
            "==================================================================================================\n",
            "Total params: 3,180,117\n",
            "Trainable params: 3,180,117\n",
            "Non-trainable params: 0\n",
            "__________________________________________________________________________________________________\n",
            "None\n"
          ],
          "name": "stdout"
        }
      ]
    },
    {
      "metadata": {
        "colab_type": "code",
        "id": "gtP-hDRZhA31",
        "outputId": "0a772622-4d1d-46d2-f79d-4b8e6019d7e8",
        "colab": {
          "base_uri": "https://localhost:8080/",
          "height": 408
        }
      },
      "cell_type": "code",
      "source": [
        "# Run training\n",
        "combined_model.fit([description_bow_train, variety_train] + [train_embed], labels_train, epochs=10, batch_size=128)"
      ],
      "execution_count": 0,
      "outputs": [
        {
          "output_type": "stream",
          "text": [
            "/usr/local/lib/python3.6/dist-packages/tensorflow/python/ops/gradients_impl.py:112: UserWarning: Converting sparse IndexedSlices to a dense Tensor of unknown shape. This may consume a large amount of memory.\n",
            "  \"Converting sparse IndexedSlices to a dense Tensor of unknown shape. \"\n"
          ],
          "name": "stderr"
        },
        {
          "output_type": "stream",
          "text": [
            "Epoch 1/10\n",
            "95646/95646 [==============================] - 59s 614us/step - loss: 1066.0892 - acc: 0.0000e+00\n",
            "Epoch 2/10\n",
            "95646/95646 [==============================] - 59s 614us/step - loss: 815.8045 - acc: 0.0000e+00\n",
            "Epoch 3/10\n",
            "95646/95646 [==============================] - 59s 616us/step - loss: 687.1002 - acc: 0.0000e+00\n",
            "Epoch 4/10\n",
            "95646/95646 [==============================] - 58s 608us/step - loss: 572.2075 - acc: 0.0000e+00\n",
            "Epoch 5/10\n",
            "95646/95646 [==============================] - 58s 605us/step - loss: 462.2863 - acc: 0.0000e+00\n",
            "Epoch 6/10\n",
            "95646/95646 [==============================] - 57s 601us/step - loss: 361.2607 - acc: 0.0000e+00\n",
            "Epoch 7/10\n",
            "95646/95646 [==============================] - 58s 603us/step - loss: 268.4163 - acc: 0.0000e+00\n",
            "Epoch 8/10\n",
            "95646/95646 [==============================] - 57s 595us/step - loss: 197.0382 - acc: 0.0000e+00\n",
            "Epoch 9/10\n",
            "95646/95646 [==============================] - 58s 607us/step - loss: 143.1778 - acc: 0.0000e+00\n",
            "Epoch 10/10\n",
            "95646/95646 [==============================] - 57s 596us/step - loss: 106.4707 - acc: 0.0000e+00\n"
          ],
          "name": "stdout"
        },
        {
          "output_type": "execute_result",
          "data": {
            "text/plain": [
              "<tensorflow.python.keras.callbacks.History at 0x7fa494f0fc50>"
            ]
          },
          "metadata": {
            "tags": []
          },
          "execution_count": 18
        }
      ]
    },
    {
      "metadata": {
        "id": "5RjfRph2l9HM",
        "colab_type": "code",
        "outputId": "e8cc2dd0-a6c7-49ae-d328-234929d9f312",
        "colab": {
          "base_uri": "https://localhost:8080/",
          "height": 51
        }
      },
      "cell_type": "code",
      "source": [
        "combined_model.evaluate([description_bow_test, variety_test] + [test_embed], labels_test, batch_size=128)"
      ],
      "execution_count": 0,
      "outputs": [
        {
          "output_type": "stream",
          "text": [
            "23912/23912 [==============================] - 4s 176us/step\n"
          ],
          "name": "stdout"
        },
        {
          "output_type": "execute_result",
          "data": {
            "text/plain": [
              "[916.14222349216, 0.0]"
            ]
          },
          "metadata": {
            "tags": []
          },
          "execution_count": 19
        }
      ]
    },
    {
      "metadata": {
        "colab_type": "code",
        "id": "f000lYoxhA4F",
        "colab": {}
      },
      "cell_type": "code",
      "source": [
        "# Generate predictions\n",
        "predictions = combined_model.predict([description_bow_test, variety_test] + [test_embed])"
      ],
      "execution_count": 0,
      "outputs": []
    },
    {
      "metadata": {
        "id": "dFdATGzdl9HT",
        "colab_type": "code",
        "outputId": "b10e4074-8d3d-4b8a-ddf0-5990634b9613",
        "colab": {
          "base_uri": "https://localhost:8080/",
          "height": 2077
        }
      },
      "cell_type": "code",
      "source": [
        "# Compare predictions with actual values for the first few items in our test dataset\n",
        "num_predictions = 40\n",
        "diff = 0\n",
        "\n",
        "for i in range(num_predictions):\n",
        "    val = predictions[i]\n",
        "    print(description_test.iloc[i])\n",
        "    print('Predicted: ', val[0], 'Actual: ', labels_test.iloc[i], '\\n')\n",
        "    diff += abs(val[0] - labels_test.iloc[i])"
      ],
      "execution_count": 0,
      "outputs": [
        {
          "output_type": "stream",
          "text": [
            "Spicy strawberries on the nose lead straight to a full-bodied, totally balanced and healthy palate that is eager to deliver zesty raspberry and tea-like flavors. Not hard to enjoy, with peppery rosé tannins and good length. Freshness is key to this wine, and as of June 2007 it was drinking perfectly. Imported by Freixenet USA.\n",
            "Predicted:  17.279507 Actual:  14.0 \n",
            "\n",
            "A fresh, ripe wine that tastes rich enough to be a beerenauslese. It is packed with honey flavors, baked apples, mulberries and light acidity. At 7.5% alcohol, you can give into the temptation to drink a second glass. Imported by Michael Skurnik Wines.\n",
            "Predicted:  41.9755 Actual:  66.0 \n",
            "\n",
            "This is a small production wine blended by French sommeliers. The result is a soft, rich wine, deliciously ripe and perfumed. There are touches of honey as well as yellow fruits and mango juice. The acidity gives the wine a lift and makes a contrast to the richness of the wine. Drink now.\n",
            "Predicted:  41.2355 Actual:  46.0 \n",
            "\n",
            "Soft scents suggest berry pastry, and the color is already showing some early oxidation, confirmed by the rather mature flavor profile. This is ready to drink, with strawberry fruit, very soft tannins, and some sharp acidity at the very end.\n",
            "Predicted:  25.574995 Actual:  28.0 \n",
            "\n",
            "This is a blend from Monterey and Santa Barbara counties. It's a dry, crisp, useful Pinot Noir. Fifty percent new French oak gives a smoky, charry overlay to the cherry, red currant and licorice flavors.\n",
            "Predicted:  24.112637 Actual:  29.0 \n",
            "\n",
            "This Redblend of 61% Merlot, 28% Cabernet Sauvignon and 11% Cab Franc is always a fine value. This year's version is noticeably softer and more textured, sleek and well-made with highlights of light spice and herb. Through a smooth and lingering finish it adds notes of anise, graphite and slate.\n",
            "Predicted:  5.353796 Actual:  14.0 \n",
            "\n",
            "This is an extraordinarily ripe, flashy Cabernet Sauvignon, one of Duckhorn's new red wines that is among the most impressive in years. The wine is densely packed in sweet red and black currant fruit, chocolate and licorice flavors, wrapped into firm tannins, with a bone-dry finish. Just fantastic to experience now, and it should easily develop over at least a decade.\n",
            "Predicted:  132.85274 Actual:  95.0 \n",
            "\n",
            "Chateau St. Jean continues to teach Chard wannabes how the game is played. This is a huge wine, but one of extraordinary finesse and interest. One reason is winemaker Margo van Staaveren's instinct for controlled tension. Another is the winery's access to fruit from throughout the county. Rich and opulent and powerful, this Chardonnay is, in a word, great.\n",
            "Predicted:  42.34084 Actual:  45.0 \n",
            "\n",
            "Already showing some bricking around the rim, this estate-grown Pinot Noir mixes spicy strawberry and some residual fermentation flavors of biscuit and blood. Difficult to know how this one is going to age.\n",
            "Predicted:  43.919483 Actual:  35.0 \n",
            "\n",
            "Peach, melon and other slightly sweet tropical aromas lead into green melon and citrus flavors. Medium-bodied and a bit chewy, with a light, uneven finish that pushes grapefruit and soda cracker.\n",
            "Predicted:  15.1038885 Actual:  8.0 \n",
            "\n",
            "Ripe white peach and pear notes are juicy and penetrating on this bright, juicy Chardonnay, with surprising depth on the palate. It's robustly structured with a rich, full body that's cut by zesty lime acidity. It finishes moderately long.\n",
            "Predicted:  13.341306 Actual:  14.0 \n",
            "\n",
            "Dark and dense, with extracted black cherry, leather and earth aromas. Shows a ton of body and darkness but only limited flavors. Chocolate and vanilla appear on the finish, but there's also a blast of green to bring it down. Imported by North American Beverage Group.\n",
            "Predicted:  21.55493 Actual:  13.0 \n",
            "\n",
            "Smooth, mellow and dry, this features savory flavors of blackberry jam, cola, licorice and baking spice. It's a sound red wine for drinking with everyday fare.\n",
            "Predicted:  20.28293 Actual:  20.0 \n",
            "\n",
            "This rich, ripe Viognier offers upfront citrus and tropical fruit flavors that combine with vanilla honey to finish off-dry to sweet. Brisk acidity helps to provide balance.\n",
            "Predicted:  17.563213 Actual:  21.0 \n",
            "\n",
            "A blend of eight different Syrah clones and a splash of Grenache, this is dark and sappy, with dense veins of citrus oil, licorice, coffee liqueur and black tea that are anchored by a solid black-cherry flavor. This should drink well for a decade or longer.\n",
            "Predicted:  33.513718 Actual:  32.0 \n",
            "\n",
            "Soft, heavy and extracted, with candied flavors of raspberries, cherries and blackberries. This ultraripe wine tastes sugary sweet and is probably at its best now.\n",
            "Predicted:  43.059467 Actual:  42.0 \n",
            "\n",
            "This pretty good everyday Chardonnay shows slightly sweet flavors of peaches, pineapples and mangoes brightened with crisp acidity. You could even make a summertime wine cooler with it.\n",
            "Predicted:  12.027233 Actual:  20.0 \n",
            "\n",
            "The fruit is all McLaren Vale fruit, though the label says South Australia. Mineral and citrus aromas.  On the palate, fresh-cut grass envelopes a citrus-rind spine; floral notes surface on the finish. Fresh, zingy and enjoyable.\n",
            "Predicted:  6.5382633 Actual:  13.0 \n",
            "\n",
            "This is a very ripe, fruity Chardonnay, and also a very oaky one. It tastes like apricot brûlée. It will satisfy fans of this California style, but is really fairly simple.\n",
            "Predicted:  35.457695 Actual:  41.0 \n",
            "\n",
            "In 2007, the Liandra Syrah is one of CH's more complex offerings, combining dark chocolate and dried fruit notes with juicier raspberry fruit. It's all tied together by a fine dusting of baking spices and a velvety texture. Long and just a touch warm on the finish. Drink now–2020.\n",
            "Predicted:  49.94678 Actual:  60.0 \n",
            "\n",
            "There's a seltzer quality to the nose of this wine, with aromas of pink-grapefruit spritz, apple and pear cider, and fresh baking soda. It's tight and grippy on the palate, with flavors of green-apple flesh and tangerine skin that linger into the finish.\n",
            "Predicted:  20.374947 Actual:  24.0 \n",
            "\n",
            "Coffee, mocha and spice aromas are followed by flavors of violet, coffee, red berries and spice in this rich, complex Greek red. The finish is dry and spicy. Pair with lamb, semi-hard cheeses, beef.\n",
            "Predicted:  32.74203 Actual:  35.0 \n",
            "\n",
            "Ripe, fruity and jammy on the nose, with smokiness and earth to go with standard berry aromas. The palate leans towards full and jammy, with sweet berry and mild spice flavors. Chunky and full-bodied, but for the most part it gets things right.\n",
            "Predicted:  15.97835 Actual:  16.0 \n",
            "\n",
            "The Central Coast has near-perfect warm days and cool nights, and that's where this wine comes from. It's rich in fig, date, pineapple and honeydew flavors that don't need any oak to show them off. But it's also dry and zesty in acidity.\n",
            "Predicted:  15.319069 Actual:  11.0 \n",
            "\n",
            "Marked by slightly herbal, tomato-y elements, this wine is nevertheless well put together, with delicate fruit flavors tinged by mushroomy notes. Offers authentic Pinot flavors at a reasonable price.\n",
            "Predicted:  16.59092 Actual:  18.0 \n",
            "\n",
            "Hugely extracted in cherry pie flavors, this Merlot makes up for the absence of subtlety with its sheer deliciousness. The tannins are soft, making it ideal for drinking now with steak.\n",
            "Predicted:  25.95063 Actual:  38.0 \n",
            "\n",
            "With big, ripe fruits, this powerful wine oozes rich plum and spice flavors. It is dark and intense, concentrated with both acidity and wood aging. A line of freshness gives this dense wine an impressive lift of raspberry and red currant flavors. Drink from 2021.\n",
            "Predicted:  158.84544 Actual:  122.0 \n",
            "\n",
            "Here's a simple wine that tastes like a supermarket fruit juice blend of peaches, mangoes and apricots. It's soft and one-dimensional and slightly sweet in the finish.\n",
            "Predicted:  10.203573 Actual:  13.0 \n",
            "\n",
            "This wine needed time in the glass to really show its stuff. At first, a touch volatile and funky, this soon blew off, and the wine showed plenty of sweet fruit, rose petal and licorice. Fairly evolved, this is a wine that should be enjoyed over the next five years.\n",
            "Predicted:  88.101875 Actual:  89.0 \n",
            "\n",
            "It's a bit chunky for a Mosel Riesling, but this wine also offers enough in the way of semisweet lime and pineapple flavors to compensate. There's a hint of struck flint on the nose and a slightly custardy texture. Drink now.\n",
            "Predicted:  6.7673817 Actual:  9.0 \n",
            "\n",
            "This late-harvest dessert wine is sweet and unctuous, with ripe aromas and flavors of peaches and nectarines drizzled with honey and dusted with sweet baking spice. The mouthfeel is thick and full, but lifted with enough acidity to keep it from feeling cloying on the close.\n",
            "Predicted:  33.31951 Actual:  27.0 \n",
            "\n",
            "This wine is mostly Cabernet Sauvignon with smaller percentages of Alicante and Petit Verdot that render a soapy, herbal nose with accents of root beer, exotic spice, lavender potpourri and green pepper corn. It is very well balanced.\n",
            "Predicted:  35.737366 Actual:  55.0 \n",
            "\n",
            "A big-hearted wine, despite its modest alcohol. This character comes from the bold fruitiness—blackberry and sweet plum flavors—underpinned with acidity and a light touch of tannins. Ready to drink.\n",
            "Predicted:  17.923948 Actual:  8.0 \n",
            "\n",
            "Semi-sweet in style with a ripe, intensely fruity palate, this delicate little Riesling is surprisingly complex with layers of wax, honey and lemon-pith that reverberate on a brisk, minerally palate.\n",
            "Predicted:  25.910292 Actual:  23.0 \n",
            "\n",
            "Fresh blackberry and boysenberry aromas meld with rose petal and hickory smoke on the warm entry of this bottling from Jonathan Nagy. The palate is packed with peppery spice, bright red cherry, thyme and root beer flavors.\n",
            "Predicted:  53.68403 Actual:  55.0 \n",
            "\n",
            "Soft, ripe wine, with easy flavors of juicy black berries, fresh acidity and sweet tannins. A wine with only a hint of dryness, which is ready to drink.\n",
            "Predicted:  13.515233 Actual:  8.0 \n",
            "\n",
            "Raw and hot, with a burnt cherry pie taste and a dry, tannic finish.\n",
            "Predicted:  22.113153 Actual:  23.0 \n",
            "\n",
            "Bring on the BBQ and don't worry about analyzing this lusty red wine. It's full-bodied and dry, and blasts off in the mouth with explosive blackberries, currants, mulberries, leather, mocha, violets and spices. Super-easy to drink, and to like.\n",
            "Predicted:  28.475788 Actual:  15.0 \n",
            "\n",
            "Ripe berries, black cherries, earth, chocolate and herbs all mark this nose of this solid Merlot. Fairly full on the palate, it has a supple feel and plum and berry flavors. The finish is reserved, maybe even a bit austere, with dry, semisweet chocolate notes on the tart plum fruit.\n",
            "Predicted:  14.88618 Actual:  15.0 \n",
            "\n",
            "Varietal offerings are a rarity in this appellation. This one brings aromas of dill, woodspice and vanilla, with the focus on the barrel. The tart red cherry flavors are silky smooth, gliding on the finish.\n",
            "Predicted:  24.336376 Actual:  34.0 \n",
            "\n"
          ],
          "name": "stdout"
        }
      ]
    },
    {
      "metadata": {
        "id": "NUEK0gCJl9HX",
        "colab_type": "code",
        "outputId": "b2b58b52-c7c1-4900-8e61-a938ea93f1a1",
        "colab": {
          "base_uri": "https://localhost:8080/",
          "height": 34
        }
      },
      "cell_type": "code",
      "source": [
        "# Compare the average difference between actual price and the model's predicted price\n",
        "print('Average prediction difference: ', diff / num_predictions)"
      ],
      "execution_count": 0,
      "outputs": [
        {
          "output_type": "stream",
          "text": [
            "Average prediction difference:  7.148534440994263\n"
          ],
          "name": "stdout"
        }
      ]
    },
    {
      "metadata": {
        "id": "88PTyRsZqdwg",
        "colab_type": "code",
        "colab": {}
      },
      "cell_type": "code",
      "source": [
        ""
      ],
      "execution_count": 0,
      "outputs": []
    }
  ]
}