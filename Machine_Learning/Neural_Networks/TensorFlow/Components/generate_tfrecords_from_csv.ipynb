{
  "nbformat": 4,
  "nbformat_minor": 0,
  "metadata": {
    "colab": {
      "name": "generate_tfrecords_from_csv.ipynb",
      "version": "0.3.2",
      "provenance": [],
      "include_colab_link": true
    },
    "kernelspec": {
      "name": "python3",
      "display_name": "Python 3"
    }
  },
  "cells": [
    {
      "cell_type": "markdown",
      "metadata": {
        "id": "view-in-github",
        "colab_type": "text"
      },
      "source": [
        "[View in Colaboratory](https://colab.research.google.com/github/gr3ybr0w/cookbook/blob/master/Machine_Learning/Neural_Networks/TensorFlow/Components/generate_tfrecords_from_csv.ipynb)"
      ]
    },
    {
      "metadata": {
        "id": "Fj74OZ5ZrY09",
        "colab_type": "code",
        "colab": {}
      },
      "cell_type": "code",
      "source": [
        "#!/usr/bin/env python\n",
        "# -*- encoding: utf-8 -*-\n",
        "\n",
        "from __future__ import absolute_import\n",
        "from __future__ import division\n",
        "from __future__ import print_function\n",
        "\n",
        "import os\n",
        "import tensorflow as tf\n",
        "\n",
        "\n",
        "def generate_tfrecords_file(input_filename, output_filename):\n",
        "  print(\"Start to convert {} to {}\".format(input_filename, output_filename))\n",
        "\n",
        "  writer = tf.python_io.TFRecordWriter(output_filename)\n",
        "\n",
        "  for line in open(input_filename, \"r\"):\n",
        "    data = line.split(\",\")\n",
        "    label = int(data[-1])\n",
        "    features = [float(i) for i in data[:-1]]\n",
        "\n",
        "    example = tf.train.Example(features=tf.train.Features(\n",
        "        feature={\n",
        "            \"label\":\n",
        "            tf.train.Feature(int64_list=tf.train.Int64List(value=[label])),\n",
        "            \"features\":\n",
        "            tf.train.Feature(float_list=tf.train.FloatList(value=features)),\n",
        "        }))\n",
        "    writer.write(example.SerializeToString())\n",
        "\n",
        "  writer.close()\n",
        "\n",
        "  print(\n",
        "      \"Successfully convert {} to {}\".format(input_filename, output_filename))\n",
        "\n",
        "\n",
        "def main():\n",
        "  current_path = os.getcwd()\n",
        "  for filename in os.listdir(current_path):\n",
        "    if filename.startswith(\"\") and filename.endswith(\".csv\"):\n",
        "      generate_tfrecords_file(filename, filename + \".tfrecords\")\n",
        "\n",
        "\n",
        "if __name__ == \"__main__\":\n",
        "  main()"
      ],
      "execution_count": 0,
      "outputs": []
    },
    {
      "metadata": {
        "id": "TpmaZRXpralp",
        "colab_type": "code",
        "colab": {}
      },
      "cell_type": "code",
      "source": [
        ""
      ],
      "execution_count": 0,
      "outputs": []
    }
  ]
}