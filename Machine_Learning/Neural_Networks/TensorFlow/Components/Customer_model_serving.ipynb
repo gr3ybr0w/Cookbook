{
  "nbformat": 4,
  "nbformat_minor": 0,
  "metadata": {
    "colab": {
      "name": "Customer_model_serving.ipynb",
      "version": "0.3.2",
      "provenance": [],
      "include_colab_link": true
    },
    "kernelspec": {
      "name": "python3",
      "display_name": "Python 3"
    }
  },
  "cells": [
    {
      "cell_type": "markdown",
      "metadata": {
        "id": "view-in-github",
        "colab_type": "text"
      },
      "source": [
        "[View in Colaboratory](https://colab.research.google.com/github/gr3ybr0w/cookbook/blob/master/Machine_Learning/Neural_Networks/TensorFlow/Customer_model_serving.ipynb)"
      ]
    },
    {
      "metadata": {
        "id": "_E4nLT7hAzyq",
        "colab_type": "code",
        "colab": {}
      },
      "cell_type": "code",
      "source": [
        "#!/usr/bin/python\n",
        "import tensorflow as tf\n",
        "\n",
        "import util\n",
        "from model import build_model_fn\n",
        "from trainer.config import MODEL_DIR, FEAT_LEN\n",
        "\n",
        "if __name__ == '__main__':\n",
        "    estimator = tf.estimator.Estimator(\n",
        "        model_fn=build_model_fn(),\n",
        "        model_dir=MODEL_DIR,\n",
        "        params={'learning_rate': 0.001})\n",
        "\n",
        "    train_spec = tf.estimator.TrainSpec(input_fn=util.build_input_fn(), max_steps=100)\n",
        "    eval_spec = tf.estimator.EvalSpec(input_fn=util.build_input_fn(mode='test'), steps=300)\n",
        "\n",
        "    tf.estimator.train_and_evaluate(estimator, train_spec, eval_spec)\n",
        "\n",
        "    feature_placeholders = {\n",
        "        'id': tf.placeholder(tf.string, [None], name='id_placeholder'),\n",
        "        'feat': tf.placeholder(tf.float32, [None, FEAT_LEN],\n",
        "                               name='feat_placeholder'),\n",
        "        # label is not required since serving is only used for inference\n",
        "    }\n",
        "\n",
        "    serving_input_fn = tf.estimator.export.build_raw_serving_input_receiver_fn(\n",
        "        feature_placeholders)\n",
        "\n",
        "    estimator.export_savedmodel(\n",
        "        MODEL_DIR, serving_input_fn)"
      ],
      "execution_count": 0,
      "outputs": []
    }
  ]
}