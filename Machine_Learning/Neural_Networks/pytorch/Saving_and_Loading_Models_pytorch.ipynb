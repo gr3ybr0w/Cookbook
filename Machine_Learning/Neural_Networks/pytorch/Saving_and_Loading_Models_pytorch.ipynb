{
  "nbformat": 4,
  "nbformat_minor": 0,
  "metadata": {
    "colab": {
      "name": "Saving_and_Loading_Models_pytorch.ipynb",
      "version": "0.3.2",
      "provenance": [],
      "collapsed_sections": [],
      "include_colab_link": true
    },
    "kernelspec": {
      "name": "python3",
      "display_name": "Python 3"
    },
    "accelerator": "GPU"
  },
  "cells": [
    {
      "cell_type": "markdown",
      "metadata": {
        "id": "view-in-github",
        "colab_type": "text"
      },
      "source": [
        "[View in Colaboratory](https://colab.research.google.com/github/gr3ybr0w/cookbook/blob/master/Machine_Learning/Neural_Networks/pytorch/Saving_and_Loading_Models_pytorch.ipynb)"
      ]
    },
    {
      "metadata": {
        "id": "vd9uUmWtyfQ_",
        "colab_type": "code",
        "colab": {
          "base_uri": "https://localhost:8080/",
          "height": 102
        },
        "outputId": "5c58ec93-2442-4987-8784-5a9496af4911"
      },
      "cell_type": "code",
      "source": [
        "!pip install torch torchvision"
      ],
      "execution_count": 1,
      "outputs": [
        {
          "output_type": "stream",
          "text": [
            "Requirement already satisfied: torch in /usr/local/lib/python3.6/dist-packages (0.4.1)\r\n",
            "Requirement already satisfied: torchvision in /usr/local/lib/python3.6/dist-packages (0.2.1)\r\n",
            "Requirement already satisfied: numpy in /usr/local/lib/python3.6/dist-packages (from torchvision) (1.14.5)\r\n",
            "Requirement already satisfied: pillow>=4.1.1 in /usr/local/lib/python3.6/dist-packages (from torchvision) (5.2.0)\r\n",
            "Requirement already satisfied: six in /usr/local/lib/python3.6/dist-packages (from torchvision) (1.11.0)\r\n"
          ],
          "name": "stdout"
        }
      ]
    },
    {
      "metadata": {
        "id": "RBgb1rF3ym4R",
        "colab_type": "code",
        "colab": {
          "base_uri": "https://localhost:8080/",
          "height": 34
        },
        "outputId": "a55f42d7-be9b-4695-fb85-cfb03981ef2f"
      },
      "cell_type": "code",
      "source": [
        "!git clone https://github.com/udacity/DL_PyTorch.git"
      ],
      "execution_count": 2,
      "outputs": [
        {
          "output_type": "stream",
          "text": [
            "fatal: destination path 'DL_PyTorch' already exists and is not an empty directory.\r\n"
          ],
          "name": "stdout"
        }
      ]
    },
    {
      "metadata": {
        "id": "2jU5gu2UywJB",
        "colab_type": "code",
        "colab": {}
      },
      "cell_type": "code",
      "source": [
        "# The code from helper which is normally imported\n",
        "\n",
        "import matplotlib.pyplot as plt\n",
        "import numpy as np\n",
        "from torch import nn, optim\n",
        "from torch.autograd import Variable\n",
        "\n",
        "\n",
        "def test_network(net, trainloader):\n",
        "\n",
        "    criterion = nn.MSELoss()\n",
        "    optimizer = optim.Adam(net.parameters(), lr=0.001)\n",
        "\n",
        "    dataiter = iter(trainloader)\n",
        "    images, labels = dataiter.next()\n",
        "\n",
        "    # Create Variables for the inputs and targets\n",
        "    inputs = Variable(images)\n",
        "    targets = Variable(images)\n",
        "\n",
        "    # Clear the gradients from all Variables\n",
        "    optimizer.zero_grad()\n",
        "\n",
        "    # Forward pass, then backward pass, then update weights\n",
        "    output = net.forward(inputs)\n",
        "    loss = criterion(output, targets)\n",
        "    loss.backward()\n",
        "    optimizer.step()\n",
        "\n",
        "    return True\n",
        "\n",
        "\n",
        "def imshow(image, ax=None, title=None, normalize=True):\n",
        "    \"\"\"Imshow for Tensor.\"\"\"\n",
        "    if ax is None:\n",
        "        fig, ax = plt.subplots()\n",
        "    image = image.numpy().transpose((1, 2, 0))\n",
        "\n",
        "    if normalize:\n",
        "        mean = np.array([0.485, 0.456, 0.406])\n",
        "        std = np.array([0.229, 0.224, 0.225])\n",
        "        image = std * image + mean\n",
        "        image = np.clip(image, 0, 1)\n",
        "\n",
        "    ax.imshow(image)\n",
        "    ax.spines['top'].set_visible(False)\n",
        "    ax.spines['right'].set_visible(False)\n",
        "    ax.spines['left'].set_visible(False)\n",
        "    ax.spines['bottom'].set_visible(False)\n",
        "    ax.tick_params(axis='both', length=0)\n",
        "    ax.set_xticklabels('')\n",
        "    ax.set_yticklabels('')\n",
        "\n",
        "    return ax\n",
        "\n",
        "\n",
        "def view_recon(img, recon):\n",
        "    ''' Function for displaying an image (as a PyTorch Tensor) and its\n",
        "        reconstruction also a PyTorch Tensor\n",
        "    '''\n",
        "\n",
        "    fig, axes = plt.subplots(ncols=2, sharex=True, sharey=True)\n",
        "    axes[0].imshow(img.numpy().squeeze())\n",
        "    axes[1].imshow(recon.data.numpy().squeeze())\n",
        "    for ax in axes:\n",
        "        ax.axis('off')\n",
        "        ax.set_adjustable('box-forced')\n",
        "\n",
        "def view_classify(img, ps, version=\"MNIST\"):\n",
        "    ''' Function for viewing an image and it's predicted classes.\n",
        "    '''\n",
        "    ps = ps.data.numpy().squeeze()\n",
        "\n",
        "    fig, (ax1, ax2) = plt.subplots(figsize=(6,9), ncols=2)\n",
        "    ax1.imshow(img.resize_(1, 28, 28).numpy().squeeze())\n",
        "    ax1.axis('off')\n",
        "    ax2.barh(np.arange(10), ps)\n",
        "    ax2.set_aspect(0.1)\n",
        "    ax2.set_yticks(np.arange(10))\n",
        "    if version == \"MNIST\":\n",
        "        ax2.set_yticklabels(np.arange(10))\n",
        "    elif version == \"Fashion\":\n",
        "        ax2.set_yticklabels(['T-shirt/top',\n",
        "                            'Trouser',\n",
        "                            'Pullover',\n",
        "                            'Dress',\n",
        "                            'Coat',\n",
        "                            'Sandal',\n",
        "                            'Shirt',\n",
        "                            'Sneaker',\n",
        "                            'Bag',\n",
        "                            'Ankle Boot'], size='small');\n",
        "    ax2.set_title('Class Probability')\n",
        "    ax2.set_xlim(0, 1.1)\n",
        "\n",
        "    plt.tight_layout()"
      ],
      "execution_count": 0,
      "outputs": []
    },
    {
      "metadata": {
        "id": "QC5o6i7wy_FB",
        "colab_type": "code",
        "colab": {}
      },
      "cell_type": "code",
      "source": [
        "%matplotlib inline\n",
        "%config InlineBackend.figure_format = 'retina'\n",
        "\n",
        "import matplotlib.pyplot as plt\n",
        "\n",
        "import torch\n",
        "from torch import nn\n",
        "from torch import optim\n",
        "import torch.nn.functional as F\n",
        "from torchvision import datasets, transforms\n",
        "\n",
        "# import helper\n",
        "# import fc_model\n",
        "\n",
        "import torch\n",
        "from torch import nn\n",
        "import torch.nn.functional as F\n",
        "\n",
        "\n",
        "class Network(nn.Module):\n",
        "    def __init__(self, input_size, output_size, hidden_layers, drop_p=0.5):\n",
        "        ''' Builds a feedforward network with arbitrary hidden layers.\n",
        "        \n",
        "            Arguments\n",
        "            ---------\n",
        "            input_size: integer, size of the input layer\n",
        "            output_size: integer, size of the output layer\n",
        "            hidden_layers: list of integers, the sizes of the hidden layers\n",
        "        \n",
        "        '''\n",
        "        super().__init__()\n",
        "        # Input to a hidden layer\n",
        "        self.hidden_layers = nn.ModuleList([nn.Linear(input_size, hidden_layers[0])])\n",
        "        \n",
        "        # Add a variable number of more hidden layers\n",
        "        layer_sizes = zip(hidden_layers[:-1], hidden_layers[1:])\n",
        "        self.hidden_layers.extend([nn.Linear(h1, h2) for h1, h2 in layer_sizes])\n",
        "        \n",
        "        self.output = nn.Linear(hidden_layers[-1], output_size)\n",
        "        \n",
        "        self.dropout = nn.Dropout(p=drop_p)\n",
        "        \n",
        "    def forward(self, x):\n",
        "        ''' Forward pass through the network, returns the output logits '''\n",
        "        \n",
        "        for each in self.hidden_layers:\n",
        "            x = F.relu(each(x))\n",
        "            x = self.dropout(x)\n",
        "        x = self.output(x)\n",
        "        \n",
        "        return F.log_softmax(x, dim=1)\n",
        "\n",
        "\n",
        "def validation(model, testloader, criterion):\n",
        "    accuracy = 0\n",
        "    test_loss = 0\n",
        "    for images, labels in testloader:\n",
        "\n",
        "        images = images.resize_(images.size()[0], 784)\n",
        "\n",
        "        output = model.forward(images)\n",
        "        test_loss += criterion(output, labels).item()\n",
        "\n",
        "        ## Calculating the accuracy \n",
        "        # Model's output is log-softmax, take exponential to get the probabilities\n",
        "        ps = torch.exp(output)\n",
        "        # Class with highest probability is our predicted class, compare with true label\n",
        "        equality = (labels.data == ps.max(1)[1])\n",
        "        # Accuracy is number of correct predictions divided by all predictions, just take the mean\n",
        "        accuracy += equality.type_as(torch.FloatTensor()).mean()\n",
        "\n",
        "    return test_loss, accuracy\n",
        "\n",
        "\n",
        "def train(model, trainloader, testloader, criterion, optimizer, epochs=5, print_every=40):\n",
        "    \n",
        "    steps = 0\n",
        "    running_loss = 0\n",
        "    for e in range(epochs):\n",
        "        # Model in training mode, dropout is on\n",
        "        model.train()\n",
        "        for images, labels in trainloader:\n",
        "            steps += 1\n",
        "            \n",
        "            # Flatten images into a 784 long vector\n",
        "            images.resize_(images.size()[0], 784)\n",
        "            \n",
        "            optimizer.zero_grad()\n",
        "            \n",
        "            output = model.forward(images)\n",
        "            loss = criterion(output, labels)\n",
        "            loss.backward()\n",
        "            optimizer.step()\n",
        "            \n",
        "            running_loss += loss.item()\n",
        "\n",
        "            if steps % print_every == 0:\n",
        "                # Model in inference mode, dropout is off\n",
        "                model.eval()\n",
        "                \n",
        "                # Turn off gradients for validation, will speed up inference\n",
        "                with torch.no_grad():\n",
        "                    test_loss, accuracy = validation(model, testloader, criterion)\n",
        "                \n",
        "                print(\"Epoch: {}/{}.. \".format(e+1, epochs),\n",
        "                      \"Training Loss: {:.3f}.. \".format(running_loss/print_every),\n",
        "                      \"Test Loss: {:.3f}.. \".format(test_loss/len(testloader)),\n",
        "                      \"Test Accuracy: {:.3f}\".format(accuracy/len(testloader)))\n",
        "                \n",
        "                running_loss = 0\n",
        "                \n",
        "                # Make sure dropout and grads are on for training\n",
        "                model.train()"
      ],
      "execution_count": 0,
      "outputs": []
    },
    {
      "metadata": {
        "id": "3z4eaP69zCrg",
        "colab_type": "code",
        "colab": {}
      },
      "cell_type": "code",
      "source": [
        "# Define a transform to normalize the data\n",
        "transform = transforms.Compose([transforms.ToTensor(),\n",
        "                                transforms.Normalize((0.5, 0.5, 0.5), (0.5, 0.5, 0.5))])\n",
        "# Download and load the training data\n",
        "trainset = datasets.FashionMNIST('F_MNIST_data/', download=True, train=True, transform=transform)\n",
        "trainloader = torch.utils.data.DataLoader(trainset, batch_size=64, shuffle=True)\n",
        "\n",
        "# Download and load the test data\n",
        "testset = datasets.FashionMNIST('F_MNIST_data/', download=True, train=False, transform=transform)\n",
        "testloader = torch.utils.data.DataLoader(testset, batch_size=64, shuffle=True)"
      ],
      "execution_count": 0,
      "outputs": []
    },
    {
      "metadata": {
        "id": "16tsYRT43CYn",
        "colab_type": "text"
      },
      "cell_type": "markdown",
      "source": [
        "Here we can see one of the images."
      ]
    },
    {
      "metadata": {
        "id": "cufrBjCA2-37",
        "colab_type": "code",
        "colab": {
          "base_uri": "https://localhost:8080/",
          "height": 248
        },
        "outputId": "9fd6f241-7deb-43d6-f63f-70645bb45478"
      },
      "cell_type": "code",
      "source": [
        "image, label = next(iter(trainloader))\n",
        "imshow(image[0,:]);"
      ],
      "execution_count": 10,
      "outputs": [
        {
          "output_type": "display_data",
          "data": {
            "image/png": "[encoded data removed]",
            "text/plain": [
              "<matplotlib.figure.Figure at 0x7f6d162e5898>"
            ]
          },
          "metadata": {
            "tags": [],
            "image/png": {
              "width": 231,
              "height": 231
            }
          }
        }
      ]
    },
    {
      "metadata": {
        "id": "QtlFkKHe3Hqh",
        "colab_type": "text"
      },
      "cell_type": "markdown",
      "source": [
        "# Train a network\n",
        "\n",
        "To make things more concise here, I moved the model architecture and training code from the last part to a file called `fc_model`. Importing this, we can easily create a fully-connected network with `fc_model.Network`, and train the network using `fc_model.train`. I'll use this model (once it's trained) to demonstrate how we can save and load models."
      ]
    },
    {
      "metadata": {
        "id": "jolCl3Mw3Ejr",
        "colab_type": "code",
        "colab": {}
      },
      "cell_type": "code",
      "source": [
        "# Create the network, define the criterion and optimizer\n",
        "model = Network(784, 10, [512, 256, 128])\n",
        "criterion = nn.NLLLoss()\n",
        "optimizer = optim.Adam(model.parameters(), lr=0.001)"
      ],
      "execution_count": 0,
      "outputs": []
    },
    {
      "metadata": {
        "id": "NRl_ZJM73L_L",
        "colab_type": "code",
        "colab": {
          "base_uri": "https://localhost:8080/",
          "height": 799
        },
        "outputId": "6b8890b9-0390-48f9-a2e2-25a11f32d36e"
      },
      "cell_type": "code",
      "source": [
        "train(model, trainloader, testloader, criterion, optimizer, epochs=2)"
      ],
      "execution_count": 13,
      "outputs": [
        {
          "output_type": "stream",
          "text": [
            "Epoch: 1/2..  Training Loss: 1.699..  Test Loss: 0.971..  Test Accuracy: 0.644\n",
            "Epoch: 1/2..  Training Loss: 1.043..  Test Loss: 0.755..  Test Accuracy: 0.692\n",
            "Epoch: 1/2..  Training Loss: 0.852..  Test Loss: 0.667..  Test Accuracy: 0.752\n",
            "Epoch: 1/2..  Training Loss: 0.809..  Test Loss: 0.646..  Test Accuracy: 0.762\n",
            "Epoch: 1/2..  Training Loss: 0.784..  Test Loss: 0.628..  Test Accuracy: 0.772\n",
            "Epoch: 1/2..  Training Loss: 0.726..  Test Loss: 0.586..  Test Accuracy: 0.776\n",
            "Epoch: 1/2..  Training Loss: 0.684..  Test Loss: 0.556..  Test Accuracy: 0.792\n",
            "Epoch: 1/2..  Training Loss: 0.659..  Test Loss: 0.563..  Test Accuracy: 0.788\n",
            "Epoch: 1/2..  Training Loss: 0.676..  Test Loss: 0.567..  Test Accuracy: 0.787\n",
            "Epoch: 1/2..  Training Loss: 0.641..  Test Loss: 0.557..  Test Accuracy: 0.792\n",
            "Epoch: 1/2..  Training Loss: 0.619..  Test Loss: 0.537..  Test Accuracy: 0.799\n",
            "Epoch: 1/2..  Training Loss: 0.652..  Test Loss: 0.562..  Test Accuracy: 0.784\n",
            "Epoch: 1/2..  Training Loss: 0.614..  Test Loss: 0.534..  Test Accuracy: 0.806\n",
            "Epoch: 1/2..  Training Loss: 0.620..  Test Loss: 0.506..  Test Accuracy: 0.813\n",
            "Epoch: 1/2..  Training Loss: 0.584..  Test Loss: 0.522..  Test Accuracy: 0.805\n",
            "Epoch: 1/2..  Training Loss: 0.608..  Test Loss: 0.513..  Test Accuracy: 0.811\n",
            "Epoch: 1/2..  Training Loss: 0.618..  Test Loss: 0.500..  Test Accuracy: 0.811\n",
            "Epoch: 1/2..  Training Loss: 0.587..  Test Loss: 0.522..  Test Accuracy: 0.809\n",
            "Epoch: 1/2..  Training Loss: 0.586..  Test Loss: 0.490..  Test Accuracy: 0.820\n",
            "Epoch: 1/2..  Training Loss: 0.566..  Test Loss: 0.492..  Test Accuracy: 0.818\n",
            "Epoch: 1/2..  Training Loss: 0.573..  Test Loss: 0.484..  Test Accuracy: 0.820\n",
            "Epoch: 1/2..  Training Loss: 0.612..  Test Loss: 0.487..  Test Accuracy: 0.826\n",
            "Epoch: 1/2..  Training Loss: 0.563..  Test Loss: 0.470..  Test Accuracy: 0.829\n",
            "Epoch: 2/2..  Training Loss: 0.592..  Test Loss: 0.487..  Test Accuracy: 0.824\n",
            "Epoch: 2/2..  Training Loss: 0.528..  Test Loss: 0.469..  Test Accuracy: 0.825\n",
            "Epoch: 2/2..  Training Loss: 0.523..  Test Loss: 0.478..  Test Accuracy: 0.824\n",
            "Epoch: 2/2..  Training Loss: 0.547..  Test Loss: 0.496..  Test Accuracy: 0.813\n",
            "Epoch: 2/2..  Training Loss: 0.536..  Test Loss: 0.459..  Test Accuracy: 0.832\n",
            "Epoch: 2/2..  Training Loss: 0.541..  Test Loss: 0.461..  Test Accuracy: 0.831\n",
            "Epoch: 2/2..  Training Loss: 0.512..  Test Loss: 0.460..  Test Accuracy: 0.829\n",
            "Epoch: 2/2..  Training Loss: 0.497..  Test Loss: 0.477..  Test Accuracy: 0.827\n",
            "Epoch: 2/2..  Training Loss: 0.550..  Test Loss: 0.488..  Test Accuracy: 0.822\n",
            "Epoch: 2/2..  Training Loss: 0.566..  Test Loss: 0.449..  Test Accuracy: 0.839\n",
            "Epoch: 2/2..  Training Loss: 0.495..  Test Loss: 0.464..  Test Accuracy: 0.830\n",
            "Epoch: 2/2..  Training Loss: 0.563..  Test Loss: 0.453..  Test Accuracy: 0.837\n",
            "Epoch: 2/2..  Training Loss: 0.541..  Test Loss: 0.469..  Test Accuracy: 0.830\n",
            "Epoch: 2/2..  Training Loss: 0.562..  Test Loss: 0.446..  Test Accuracy: 0.839\n",
            "Epoch: 2/2..  Training Loss: 0.522..  Test Loss: 0.454..  Test Accuracy: 0.834\n",
            "Epoch: 2/2..  Training Loss: 0.522..  Test Loss: 0.459..  Test Accuracy: 0.832\n",
            "Epoch: 2/2..  Training Loss: 0.523..  Test Loss: 0.455..  Test Accuracy: 0.834\n",
            "Epoch: 2/2..  Training Loss: 0.530..  Test Loss: 0.478..  Test Accuracy: 0.821\n",
            "Epoch: 2/2..  Training Loss: 0.530..  Test Loss: 0.469..  Test Accuracy: 0.826\n",
            "Epoch: 2/2..  Training Loss: 0.519..  Test Loss: 0.444..  Test Accuracy: 0.836\n",
            "Epoch: 2/2..  Training Loss: 0.528..  Test Loss: 0.445..  Test Accuracy: 0.836\n",
            "Epoch: 2/2..  Training Loss: 0.499..  Test Loss: 0.457..  Test Accuracy: 0.828\n",
            "Epoch: 2/2..  Training Loss: 0.497..  Test Loss: 0.432..  Test Accuracy: 0.841\n"
          ],
          "name": "stdout"
        }
      ]
    },
    {
      "metadata": {
        "id": "0Eg6giKb3Tgn",
        "colab_type": "text"
      },
      "cell_type": "markdown",
      "source": [
        "## Saving and loading networks\n",
        "\n",
        "As you can imagine, it's impractical to train a network every time you need to use it. Instead, we can save trained networks then load them later to train more or use them for predictions.\n",
        "\n",
        "The parameters for PyTorch networks are stored in a model's `state_dict`. We can see the state dict contains the weight and bias matrices for each of our layers."
      ]
    },
    {
      "metadata": {
        "id": "jMX8IpAH3RES",
        "colab_type": "code",
        "colab": {
          "base_uri": "https://localhost:8080/",
          "height": 272
        },
        "outputId": "063cabd6-07b9-4ef8-8b97-2c61e8cdc3d3"
      },
      "cell_type": "code",
      "source": [
        "print(\"Our model: \\n\\n\", model, '\\n')\n",
        "print(\"The state dict keys: \\n\\n\", model.state_dict().keys())"
      ],
      "execution_count": 14,
      "outputs": [
        {
          "output_type": "stream",
          "text": [
            "Our model: \n",
            "\n",
            " Network(\n",
            "  (hidden_layers): ModuleList(\n",
            "    (0): Linear(in_features=784, out_features=512, bias=True)\n",
            "    (1): Linear(in_features=512, out_features=256, bias=True)\n",
            "    (2): Linear(in_features=256, out_features=128, bias=True)\n",
            "  )\n",
            "  (output): Linear(in_features=128, out_features=10, bias=True)\n",
            "  (dropout): Dropout(p=0.5)\n",
            ") \n",
            "\n",
            "The state dict keys: \n",
            "\n",
            " odict_keys(['hidden_layers.0.weight', 'hidden_layers.0.bias', 'hidden_layers.1.weight', 'hidden_layers.1.bias', 'hidden_layers.2.weight', 'hidden_layers.2.bias', 'output.weight', 'output.bias'])\n"
          ],
          "name": "stdout"
        }
      ]
    },
    {
      "metadata": {
        "id": "YuBCnORz3eJX",
        "colab_type": "text"
      },
      "cell_type": "markdown",
      "source": [
        "The simplest thing to do is simply save the state dict with torch.save. For example, we can save it to a file 'checkpoint.pth'."
      ]
    },
    {
      "metadata": {
        "id": "0xTJSde13gDD",
        "colab_type": "code",
        "colab": {}
      },
      "cell_type": "code",
      "source": [
        "torch.save(model.state_dict(), 'checkpoint.pth')"
      ],
      "execution_count": 0,
      "outputs": []
    },
    {
      "metadata": {
        "id": "BNWSJws14PHt",
        "colab_type": "text"
      },
      "cell_type": "markdown",
      "source": [
        "Then we can load the state dict with torch.load."
      ]
    },
    {
      "metadata": {
        "id": "ImXD6R0u4Ngq",
        "colab_type": "code",
        "colab": {
          "base_uri": "https://localhost:8080/",
          "height": 34
        },
        "outputId": "aa560cde-cfa1-4965-ea59-7ca0e0c8b2a2"
      },
      "cell_type": "code",
      "source": [
        "state_dict = torch.load('checkpoint.pth')\n",
        "print(state_dict.keys())"
      ],
      "execution_count": 16,
      "outputs": [
        {
          "output_type": "stream",
          "text": [
            "odict_keys(['hidden_layers.0.weight', 'hidden_layers.0.bias', 'hidden_layers.1.weight', 'hidden_layers.1.bias', 'hidden_layers.2.weight', 'hidden_layers.2.bias', 'output.weight', 'output.bias'])\n"
          ],
          "name": "stdout"
        }
      ]
    },
    {
      "metadata": {
        "id": "pmNeehvp4VEp",
        "colab_type": "text"
      },
      "cell_type": "markdown",
      "source": [
        "And to load the state dict in to the network, you do model.load_state_dict(state_dict)."
      ]
    },
    {
      "metadata": {
        "id": "gMJCC9R84SCa",
        "colab_type": "code",
        "colab": {}
      },
      "cell_type": "code",
      "source": [
        "model.load_state_dict(state_dict)"
      ],
      "execution_count": 0,
      "outputs": []
    },
    {
      "metadata": {
        "id": "iErXuCe04aHc",
        "colab_type": "text"
      },
      "cell_type": "markdown",
      "source": [
        "Seems pretty straightforward, but as usual it's a bit more complicated. Loading the state dict works only if the model architecture is exactly the same as the checkpoint architecture. If I create a model with a different architecture, this fails."
      ]
    },
    {
      "metadata": {
        "id": "o4Y-8DbO4Xgy",
        "colab_type": "code",
        "colab": {
          "base_uri": "https://localhost:8080/",
          "height": 435
        },
        "outputId": "fa462e6c-b2b7-45b3-f420-f18fafe49cf1"
      },
      "cell_type": "code",
      "source": [
        "# Try this\n",
        "model = Network(784, 10, [400, 200, 100])\n",
        "# This will throw an error because the tensor sizes are wrong!\n",
        "model.load_state_dict(state_dict)"
      ],
      "execution_count": 19,
      "outputs": [
        {
          "output_type": "error",
          "ename": "RuntimeError",
          "evalue": "ignored",
          "traceback": [
            "\u001b[0;31m---------------------------------------------------------------------------\u001b[0m",
            "\u001b[0;31mRuntimeError\u001b[0m                              Traceback (most recent call last)",
            "\u001b[0;32m<ipython-input-19-9b1d83a68ac6>\u001b[0m in \u001b[0;36m<module>\u001b[0;34m()\u001b[0m\n\u001b[1;32m      1\u001b[0m \u001b[0mmodel\u001b[0m \u001b[0;34m=\u001b[0m \u001b[0mNetwork\u001b[0m\u001b[0;34m(\u001b[0m\u001b[0;36m784\u001b[0m\u001b[0;34m,\u001b[0m \u001b[0;36m10\u001b[0m\u001b[0;34m,\u001b[0m \u001b[0;34m[\u001b[0m\u001b[0;36m400\u001b[0m\u001b[0;34m,\u001b[0m \u001b[0;36m200\u001b[0m\u001b[0;34m,\u001b[0m \u001b[0;36m100\u001b[0m\u001b[0;34m]\u001b[0m\u001b[0;34m)\u001b[0m\u001b[0;34m\u001b[0m\u001b[0m\n\u001b[1;32m      2\u001b[0m \u001b[0;31m# This will throw an error because the tensor sizes are wrong!\u001b[0m\u001b[0;34m\u001b[0m\u001b[0;34m\u001b[0m\u001b[0m\n\u001b[0;32m----> 3\u001b[0;31m \u001b[0mmodel\u001b[0m\u001b[0;34m.\u001b[0m\u001b[0mload_state_dict\u001b[0m\u001b[0;34m(\u001b[0m\u001b[0mstate_dict\u001b[0m\u001b[0;34m)\u001b[0m\u001b[0;34m\u001b[0m\u001b[0m\n\u001b[0m",
            "\u001b[0;32m/usr/local/lib/python3.6/dist-packages/torch/nn/modules/module.py\u001b[0m in \u001b[0;36mload_state_dict\u001b[0;34m(self, state_dict, strict)\u001b[0m\n\u001b[1;32m    717\u001b[0m         \u001b[0;32mif\u001b[0m \u001b[0mlen\u001b[0m\u001b[0;34m(\u001b[0m\u001b[0merror_msgs\u001b[0m\u001b[0;34m)\u001b[0m \u001b[0;34m>\u001b[0m \u001b[0;36m0\u001b[0m\u001b[0;34m:\u001b[0m\u001b[0;34m\u001b[0m\u001b[0m\n\u001b[1;32m    718\u001b[0m             raise RuntimeError('Error(s) in loading state_dict for {}:\\n\\t{}'.format(\n\u001b[0;32m--> 719\u001b[0;31m                                self.__class__.__name__, \"\\n\\t\".join(error_msgs)))\n\u001b[0m\u001b[1;32m    720\u001b[0m \u001b[0;34m\u001b[0m\u001b[0m\n\u001b[1;32m    721\u001b[0m     \u001b[0;32mdef\u001b[0m \u001b[0mparameters\u001b[0m\u001b[0;34m(\u001b[0m\u001b[0mself\u001b[0m\u001b[0;34m)\u001b[0m\u001b[0;34m:\u001b[0m\u001b[0;34m\u001b[0m\u001b[0m\n",
            "\u001b[0;31mRuntimeError\u001b[0m: Error(s) in loading state_dict for Network:\n\tsize mismatch for hidden_layers.0.weight: copying a param of torch.Size([400, 784]) from checkpoint, where the shape is torch.Size([512, 784]) in current model.\n\tsize mismatch for hidden_layers.0.bias: copying a param of torch.Size([400]) from checkpoint, where the shape is torch.Size([512]) in current model.\n\tsize mismatch for hidden_layers.1.weight: copying a param of torch.Size([200, 400]) from checkpoint, where the shape is torch.Size([256, 512]) in current model.\n\tsize mismatch for hidden_layers.1.bias: copying a param of torch.Size([200]) from checkpoint, where the shape is torch.Size([256]) in current model.\n\tsize mismatch for hidden_layers.2.weight: copying a param of torch.Size([100, 200]) from checkpoint, where the shape is torch.Size([128, 256]) in current model.\n\tsize mismatch for hidden_layers.2.bias: copying a param of torch.Size([100]) from checkpoint, where the shape is torch.Size([128]) in current model.\n\tsize mismatch for output.weight: copying a param of torch.Size([10, 100]) from checkpoint, where the shape is torch.Size([10, 128]) in current model."
          ]
        }
      ]
    },
    {
      "metadata": {
        "id": "CGkGhtqF4hTo",
        "colab_type": "text"
      },
      "cell_type": "markdown",
      "source": [
        "This means we need to rebuild the model exactly as it was when trained. Information about the model architecture needs to be saved in the checkpoint, along with the state dict. To do this, you build a dictionary with all the information you need to compeletely rebuild the model."
      ]
    },
    {
      "metadata": {
        "id": "vUCfKzPg4cgq",
        "colab_type": "code",
        "colab": {}
      },
      "cell_type": "code",
      "source": [
        "checkpoint = {'input_size': 784,\n",
        "              'output_size': 10,\n",
        "              'hidden_layers': [each.out_features for each in model.hidden_layers],\n",
        "              'state_dict': model.state_dict()}\n",
        "\n",
        "torch.save(checkpoint, 'checkpoint.pth')"
      ],
      "execution_count": 0,
      "outputs": []
    },
    {
      "metadata": {
        "id": "xbLJbfwE4l2J",
        "colab_type": "text"
      },
      "cell_type": "markdown",
      "source": [
        "Now the checkpoint has all the necessary information to rebuild the trained model. You can easily make that a function if you want. Similarly, we can write a function to load checkpoints. "
      ]
    },
    {
      "metadata": {
        "id": "0mt1gV724jkC",
        "colab_type": "code",
        "colab": {}
      },
      "cell_type": "code",
      "source": [
        "def load_checkpoint(filepath):\n",
        "    checkpoint = torch.load(filepath)\n",
        "    model = Network(checkpoint['input_size'],\n",
        "                             checkpoint['output_size'],\n",
        "                             checkpoint['hidden_layers'])\n",
        "    model.load_state_dict(checkpoint['state_dict'])\n",
        "    \n",
        "    return model"
      ],
      "execution_count": 0,
      "outputs": []
    },
    {
      "metadata": {
        "id": "-_HPdq-u4ndr",
        "colab_type": "code",
        "colab": {
          "base_uri": "https://localhost:8080/",
          "height": 170
        },
        "outputId": "18d2e71d-ee43-4dab-c930-f373b4c9850a"
      },
      "cell_type": "code",
      "source": [
        "model = load_checkpoint('checkpoint.pth')\n",
        "print(model)"
      ],
      "execution_count": 24,
      "outputs": [
        {
          "output_type": "stream",
          "text": [
            "Network(\n",
            "  (hidden_layers): ModuleList(\n",
            "    (0): Linear(in_features=784, out_features=400, bias=True)\n",
            "    (1): Linear(in_features=400, out_features=200, bias=True)\n",
            "    (2): Linear(in_features=200, out_features=100, bias=True)\n",
            "  )\n",
            "  (output): Linear(in_features=100, out_features=10, bias=True)\n",
            "  (dropout): Dropout(p=0.5)\n",
            ")\n"
          ],
          "name": "stdout"
        }
      ]
    },
    {
      "metadata": {
        "id": "EU6Md9x44o4x",
        "colab_type": "code",
        "colab": {}
      },
      "cell_type": "code",
      "source": [
        ""
      ],
      "execution_count": 0,
      "outputs": []
    }
  ]
}