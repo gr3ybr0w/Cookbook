{
  "nbformat": 4,
  "nbformat_minor": 0,
  "metadata": {
    "colab": {
      "name": "Inference_and_Validation_pytorch.ipynb",
      "version": "0.3.2",
      "provenance": [],
      "collapsed_sections": [],
      "include_colab_link": true
    },
    "kernelspec": {
      "name": "python3",
      "display_name": "Python 3"
    },
    "accelerator": "GPU"
  },
  "cells": [
    {
      "cell_type": "markdown",
      "metadata": {
        "id": "view-in-github",
        "colab_type": "text"
      },
      "source": [
        "[View in Colaboratory](https://colab.research.google.com/github/gr3ybr0w/cookbook/blob/master/Machine_Learning/Neural_Networks/Inference_and_Validation_pytorch.ipynb)"
      ]
    },
    {
      "metadata": {
        "id": "UkU8CCaatEYs",
        "colab_type": "code",
        "colab": {
          "base_uri": "https://localhost:8080/",
          "height": 102
        },
        "outputId": "b92deb18-400b-4175-b2c3-81e848e59d45"
      },
      "cell_type": "code",
      "source": [
        "!pip install torch torchvision"
      ],
      "execution_count": 1,
      "outputs": [
        {
          "output_type": "stream",
          "text": [
            "Requirement already satisfied: torch in /usr/local/lib/python3.6/dist-packages (0.4.1)\r\n",
            "Requirement already satisfied: torchvision in /usr/local/lib/python3.6/dist-packages (0.2.1)\r\n",
            "Requirement already satisfied: numpy in /usr/local/lib/python3.6/dist-packages (from torchvision) (1.14.5)\r\n",
            "Requirement already satisfied: six in /usr/local/lib/python3.6/dist-packages (from torchvision) (1.11.0)\r\n",
            "Requirement already satisfied: pillow>=4.1.1 in /usr/local/lib/python3.6/dist-packages (from torchvision) (5.2.0)\r\n"
          ],
          "name": "stdout"
        }
      ]
    },
    {
      "metadata": {
        "id": "zckg2sr6uCQ0",
        "colab_type": "code",
        "colab": {}
      },
      "cell_type": "code",
      "source": [
        "# The code from helper which is normally imported\n",
        "\n",
        "import matplotlib.pyplot as plt\n",
        "import numpy as np\n",
        "from torch import nn, optim\n",
        "from torch.autograd import Variable\n",
        "\n",
        "\n",
        "def test_network(net, trainloader):\n",
        "\n",
        "    criterion = nn.MSELoss()\n",
        "    optimizer = optim.Adam(net.parameters(), lr=0.001)\n",
        "\n",
        "    dataiter = iter(trainloader)\n",
        "    images, labels = dataiter.next()\n",
        "\n",
        "    # Create Variables for the inputs and targets\n",
        "    inputs = Variable(images)\n",
        "    targets = Variable(images)\n",
        "\n",
        "    # Clear the gradients from all Variables\n",
        "    optimizer.zero_grad()\n",
        "\n",
        "    # Forward pass, then backward pass, then update weights\n",
        "    output = net.forward(inputs)\n",
        "    loss = criterion(output, targets)\n",
        "    loss.backward()\n",
        "    optimizer.step()\n",
        "\n",
        "    return True\n",
        "\n",
        "\n",
        "def imshow(image, ax=None, title=None, normalize=True):\n",
        "    \"\"\"Imshow for Tensor.\"\"\"\n",
        "    if ax is None:\n",
        "        fig, ax = plt.subplots()\n",
        "    image = image.numpy().transpose((1, 2, 0))\n",
        "\n",
        "    if normalize:\n",
        "        mean = np.array([0.485, 0.456, 0.406])\n",
        "        std = np.array([0.229, 0.224, 0.225])\n",
        "        image = std * image + mean\n",
        "        image = np.clip(image, 0, 1)\n",
        "\n",
        "    ax.imshow(image)\n",
        "    ax.spines['top'].set_visible(False)\n",
        "    ax.spines['right'].set_visible(False)\n",
        "    ax.spines['left'].set_visible(False)\n",
        "    ax.spines['bottom'].set_visible(False)\n",
        "    ax.tick_params(axis='both', length=0)\n",
        "    ax.set_xticklabels('')\n",
        "    ax.set_yticklabels('')\n",
        "\n",
        "    return ax\n",
        "\n",
        "\n",
        "def view_recon(img, recon):\n",
        "    ''' Function for displaying an image (as a PyTorch Tensor) and its\n",
        "        reconstruction also a PyTorch Tensor\n",
        "    '''\n",
        "\n",
        "    fig, axes = plt.subplots(ncols=2, sharex=True, sharey=True)\n",
        "    axes[0].imshow(img.numpy().squeeze())\n",
        "    axes[1].imshow(recon.data.numpy().squeeze())\n",
        "    for ax in axes:\n",
        "        ax.axis('off')\n",
        "        ax.set_adjustable('box-forced')\n",
        "\n",
        "def view_classify(img, ps, version=\"MNIST\"):\n",
        "    ''' Function for viewing an image and it's predicted classes.\n",
        "    '''\n",
        "    ps = ps.data.numpy().squeeze()\n",
        "\n",
        "    fig, (ax1, ax2) = plt.subplots(figsize=(6,9), ncols=2)\n",
        "    ax1.imshow(img.resize_(1, 28, 28).numpy().squeeze())\n",
        "    ax1.axis('off')\n",
        "    ax2.barh(np.arange(10), ps)\n",
        "    ax2.set_aspect(0.1)\n",
        "    ax2.set_yticks(np.arange(10))\n",
        "    if version == \"MNIST\":\n",
        "        ax2.set_yticklabels(np.arange(10))\n",
        "    elif version == \"Fashion\":\n",
        "        ax2.set_yticklabels(['T-shirt/top',\n",
        "                            'Trouser',\n",
        "                            'Pullover',\n",
        "                            'Dress',\n",
        "                            'Coat',\n",
        "                            'Sandal',\n",
        "                            'Shirt',\n",
        "                            'Sneaker',\n",
        "                            'Bag',\n",
        "                            'Ankle Boot'], size='small');\n",
        "    ax2.set_title('Class Probability')\n",
        "    ax2.set_xlim(0, 1.1)\n",
        "\n",
        "    plt.tight_layout()"
      ],
      "execution_count": 0,
      "outputs": []
    },
    {
      "metadata": {
        "id": "n2I2lh3RtiRx",
        "colab_type": "text"
      },
      "cell_type": "markdown",
      "source": [
        "# Inference and Validation\n",
        "\n",
        "Now that you have a trained network, you can use it for making predictions. This is typically called **inference**, a term borrowed from statistics. However, neural networks have a tendency to perform *too well* on the training data and aren't able to generalize to data that hasn't been seen before. This is called **overfitting** and it impairs inference performance. To test for overfitting while training, we measure the performance on data not in the training set called the **validation** dataset. We avoid overfitting through regularization such as dropout while monitoring the validation performance during training. In this notebook, I'll show you how to do this in PyTorch. \n",
        "\n",
        "First off, I'll implement my own feedforward network for the exercise you worked on in part 4 using the Fashion-MNIST dataset.\n",
        "\n",
        "As usual, let's start by loading the dataset through torchvision. You'll learn more about torchvision and loading data in a later part."
      ]
    },
    {
      "metadata": {
        "id": "5wCRfnJGtj_j",
        "colab_type": "code",
        "colab": {}
      },
      "cell_type": "code",
      "source": [
        "%matplotlib inline\n",
        "%config InlineBackend.figure_format = 'retina'\n",
        "\n",
        "import matplotlib.pyplot as plt\n",
        "import numpy as np\n",
        "import time\n",
        "\n",
        "import torch\n",
        "from torch import nn\n",
        "from torch import optim\n",
        "import torch.nn.functional as F\n",
        "from torchvision import datasets, transforms\n",
        "\n",
        "# import helper"
      ],
      "execution_count": 0,
      "outputs": []
    },
    {
      "metadata": {
        "id": "HH51HVaRtyH5",
        "colab_type": "code",
        "colab": {}
      },
      "cell_type": "code",
      "source": [
        "# Define a transform to normalize the data\n",
        "transform = transforms.Compose([transforms.ToTensor(),\n",
        "                                transforms.Normalize((0.5, 0.5, 0.5), (0.5, 0.5, 0.5))])\n",
        "# Download and load the training data\n",
        "trainset = datasets.FashionMNIST('F_MNIST_data/', download=True, train=True, transform=transform)\n",
        "trainloader = torch.utils.data.DataLoader(trainset, batch_size=64, shuffle=True)\n",
        "\n",
        "# Download and load the test data\n",
        "testset = datasets.FashionMNIST('F_MNIST_data/', download=True, train=False, transform=transform)\n",
        "testloader = torch.utils.data.DataLoader(testset, batch_size=64, shuffle=True)"
      ],
      "execution_count": 0,
      "outputs": []
    },
    {
      "metadata": {
        "id": "R6mGn82wuYge",
        "colab_type": "text"
      },
      "cell_type": "markdown",
      "source": [
        "## Building the network\n",
        "\n",
        "As with MNIST, each image in Fashion-MNIST is 28x28 which is a total of 784 pixels, and there are 10 classes. I'm going to get a bit more advanced here, I want to be able to build a network with an arbitrary number of hidden layers. That is, I want to pass in a parameter like `hidden_layers = [512, 256, 128]` and the network is contructed with three hidden layers have 512, 256, and 128 units respectively. To do this, I'll use `nn.ModuleList` to allow for an arbitrary number of hidden layers. Using `nn.ModuleList` works pretty much the same as a normal Python list, except that it registers each hidden layer `Linear` module properly so the model is aware of the layers.\n",
        "\n",
        "The issue here is I need a way to define each `nn.Linear` module with the appropriate layer sizes. Since each `nn.Linear` operation needs an input size and an output size, I need something that looks like this:\n",
        "\n",
        "```python\n",
        "# Create ModuleList and add input layer\n",
        "hidden_layers = nn.ModuleList([nn.Linear(input_size, hidden_layers[0])])\n",
        "# Add hidden layers to the ModuleList\n",
        "hidden_layers.extend([nn.Linear(h1, h2) for h1, h2 in layer_sizes])\n",
        "```\n",
        "\n",
        "Getting these pairs of input and output sizes can be done with a handy trick using `zip`.\n",
        "\n",
        "```python\n",
        "hidden_layers = [512, 256, 128, 64]\n",
        "layer_sizes = zip(hidden_layers[:-1], hidden_layers[1:])\n",
        "for each in layer_sizes:\n",
        "    print(each)\n",
        "\n",
        ">> (512, 256)\n",
        ">> (256, 128)\n",
        ">> (128, 64)\n",
        "```\n",
        "\n",
        "I also have the `forward` method returning the log-softmax for the output. Since softmax is a probability distibution over the classes, the log-softmax is a log probability which comes with a [lot of benefits](https://en.wikipedia.org/wiki/Log_probability). Using the log probability, computations are often faster and more accurate. To get the class probabilities later, I'll need to take the exponential (`torch.exp`) of the output. Algebra refresher... the exponential function is the inverse of the log function:\n",
        "\n",
        "$$ \\large{e^{\\ln{x}} = x }$$\n",
        "\n",
        "We can include dropout in our network with [`nn.Dropout`](http://pytorch.org/docs/master/nn.html#dropout). This works similar to other modules such as `nn.Linear`. It also takes the dropout probability as an input which we can pass as an input to the network."
      ]
    },
    {
      "metadata": {
        "id": "8nvptRgqt-zj",
        "colab_type": "code",
        "colab": {}
      },
      "cell_type": "code",
      "source": [
        "class Network(nn.Module):\n",
        "    def __init__(self, input_size, output_size, hidden_layers, drop_p=0.5):\n",
        "        ''' Builds a feedforward network with arbitrary hidden layers.\n",
        "        \n",
        "            Arguments\n",
        "            ---------\n",
        "            input_size: integer, size of the input\n",
        "            output_size: integer, size of the output layer\n",
        "            hidden_layers: list of integers, the sizes of the hidden layers\n",
        "            drop_p: float between 0 and 1, dropout probability\n",
        "        '''\n",
        "        super().__init__()\n",
        "        # Add the first layer, input to a hidden layer\n",
        "        self.hidden_layers = nn.ModuleList([nn.Linear(input_size, hidden_layers[0])])\n",
        "        \n",
        "        # Add a variable number of more hidden layers\n",
        "        layer_sizes = zip(hidden_layers[:-1], hidden_layers[1:])\n",
        "        self.hidden_layers.extend([nn.Linear(h1, h2) for h1, h2 in layer_sizes])\n",
        "        \n",
        "        self.output = nn.Linear(hidden_layers[-1], output_size)\n",
        "        \n",
        "        self.dropout = nn.Dropout(p=drop_p)\n",
        "        \n",
        "    def forward(self, x):\n",
        "        ''' Forward pass through the network, returns the output logits '''\n",
        "        \n",
        "        # Forward through each layer in `hidden_layers`, with ReLU activation and dropout\n",
        "        for linear in self.hidden_layers:\n",
        "            x = F.relu(linear(x))\n",
        "            x = self.dropout(x)\n",
        "        \n",
        "        x = self.output(x)\n",
        "        \n",
        "        return F.log_softmax(x, dim=1)"
      ],
      "execution_count": 0,
      "outputs": []
    },
    {
      "metadata": {
        "id": "J8HeGYvdu8iy",
        "colab_type": "text"
      },
      "cell_type": "markdown",
      "source": [
        "# Train the network\n",
        "\n",
        "Since the model's forward method returns the log-softmax, I used the [negative log loss](http://pytorch.org/docs/master/nn.html#nllloss) as my criterion, `nn.NLLLoss()`. I also chose to use the [Adam optimizer](http://pytorch.org/docs/master/optim.html#torch.optim.Adam). This is a variant of stochastic gradient descent which includes momentum and in general trains faster than your basic SGD.\n",
        "\n",
        "I've also included a block to measure the validation loss and accuracy. Since I'm using dropout in the network, I need to turn it off during inference. Otherwise, the network will appear to perform poorly because many of the connections are turned off. PyTorch allows you to set a model in \"training\" or \"evaluation\" modes with `model.train()` and `model.eval()`, respectively. In training mode, dropout is turned on, while in evaluation mode, dropout is turned off. This effects other modules as well that should be on during training but off during inference.\n",
        "\n",
        "The validation code consists of a forward pass through the validation set (also split into batches). With the log-softmax output, I calculate the loss on the validation set, as well as the prediction accuracy."
      ]
    },
    {
      "metadata": {
        "id": "9AXWNZOst-7E",
        "colab_type": "code",
        "colab": {}
      },
      "cell_type": "code",
      "source": [
        "# Create the network, define the criterion and optimizer\n",
        "model = Network(784, 10, [516, 256], drop_p=0.5)\n",
        "# Because we are using log_softmax which returns a negative we will use nn.NLLLoss() for the criterion\n",
        "criterion = nn.NLLLoss()\n",
        "optimizer = optim.Adam(model.parameters(), lr=0.001)"
      ],
      "execution_count": 0,
      "outputs": []
    },
    {
      "metadata": {
        "id": "k2VQDdugt-9j",
        "colab_type": "code",
        "colab": {}
      },
      "cell_type": "code",
      "source": [
        "# Implement a function for the validation pass\n",
        "def validation(model, testloader, criterion):\n",
        "    test_loss = 0\n",
        "    accuracy = 0\n",
        "    for images, labels in testloader:\n",
        "\n",
        "        images.resize_(images.shape[0], 784)\n",
        "\n",
        "        # passing through the network\n",
        "        output = model.forward(images)\n",
        "        # record the test loss\n",
        "        test_loss += criterion(output, labels).item()\n",
        "\n",
        "        # calculation of probabilities getting the inverse of log using exp\n",
        "        ps = torch.exp(output)\n",
        "        # compares the labels to the highest probablilty predicted\n",
        "        equality = (labels.data == ps.max(dim=1)[1])\n",
        "        accuracy += equality.type(torch.FloatTensor).mean()\n",
        "    \n",
        "    return test_loss, accuracy"
      ],
      "execution_count": 0,
      "outputs": []
    },
    {
      "metadata": {
        "id": "X1G01MkvvEvb",
        "colab_type": "code",
        "colab": {
          "base_uri": "https://localhost:8080/",
          "height": 799
        },
        "outputId": "7cb1a51a-801b-4ed9-d44c-1ef48d75d0d5"
      },
      "cell_type": "code",
      "source": [
        "epochs = 2\n",
        "steps = 0\n",
        "running_loss = 0\n",
        "print_every = 40\n",
        "for e in range(epochs):\n",
        "    model.train()\n",
        "    for images, labels in trainloader:\n",
        "        steps += 1\n",
        "        \n",
        "        # Flatten images into a 784 long vector\n",
        "        images.resize_(images.size()[0], 784)\n",
        "        \n",
        "        optimizer.zero_grad()\n",
        "        \n",
        "        output = model.forward(images)\n",
        "        loss = criterion(output, labels)\n",
        "        loss.backward()\n",
        "        optimizer.step()\n",
        "        \n",
        "        running_loss += loss.item()\n",
        "        \n",
        "        if steps % print_every == 0:\n",
        "            # Make sure network is in eval mode for inference\n",
        "            model.eval()\n",
        "            \n",
        "            # Turn off gradients for validation, saves memory and computations\n",
        "            with torch.no_grad():\n",
        "                test_loss, accuracy = validation(model, testloader, criterion)\n",
        "                \n",
        "            print(\"Epoch: {}/{}.. \".format(e+1, epochs),\n",
        "                  \"Training Loss: {:.3f}.. \".format(running_loss/print_every),\n",
        "                  \"Test Loss: {:.3f}.. \".format(test_loss/len(testloader)),\n",
        "                  \"Test Accuracy: {:.3f}\".format(accuracy/len(testloader)))\n",
        "            \n",
        "            running_loss = 0\n",
        "            \n",
        "            # Make sure training is back on\n",
        "            model.train()"
      ],
      "execution_count": 9,
      "outputs": [
        {
          "output_type": "stream",
          "text": [
            "Epoch: 1/2..  Training Loss: 1.316..  Test Loss: 0.813..  Test Accuracy: 0.708\n",
            "Epoch: 1/2..  Training Loss: 0.804..  Test Loss: 0.643..  Test Accuracy: 0.754\n",
            "Epoch: 1/2..  Training Loss: 0.737..  Test Loss: 0.608..  Test Accuracy: 0.773\n",
            "Epoch: 1/2..  Training Loss: 0.679..  Test Loss: 0.570..  Test Accuracy: 0.790\n",
            "Epoch: 1/2..  Training Loss: 0.668..  Test Loss: 0.551..  Test Accuracy: 0.798\n",
            "Epoch: 1/2..  Training Loss: 0.628..  Test Loss: 0.560..  Test Accuracy: 0.793\n",
            "Epoch: 1/2..  Training Loss: 0.621..  Test Loss: 0.524..  Test Accuracy: 0.806\n",
            "Epoch: 1/2..  Training Loss: 0.554..  Test Loss: 0.543..  Test Accuracy: 0.802\n",
            "Epoch: 1/2..  Training Loss: 0.573..  Test Loss: 0.522..  Test Accuracy: 0.809\n",
            "Epoch: 1/2..  Training Loss: 0.569..  Test Loss: 0.498..  Test Accuracy: 0.810\n",
            "Epoch: 1/2..  Training Loss: 0.556..  Test Loss: 0.498..  Test Accuracy: 0.817\n",
            "Epoch: 1/2..  Training Loss: 0.569..  Test Loss: 0.503..  Test Accuracy: 0.818\n",
            "Epoch: 1/2..  Training Loss: 0.538..  Test Loss: 0.482..  Test Accuracy: 0.824\n",
            "Epoch: 1/2..  Training Loss: 0.554..  Test Loss: 0.499..  Test Accuracy: 0.809\n",
            "Epoch: 1/2..  Training Loss: 0.573..  Test Loss: 0.489..  Test Accuracy: 0.822\n",
            "Epoch: 1/2..  Training Loss: 0.559..  Test Loss: 0.488..  Test Accuracy: 0.819\n",
            "Epoch: 1/2..  Training Loss: 0.519..  Test Loss: 0.488..  Test Accuracy: 0.818\n",
            "Epoch: 1/2..  Training Loss: 0.569..  Test Loss: 0.465..  Test Accuracy: 0.831\n",
            "Epoch: 1/2..  Training Loss: 0.522..  Test Loss: 0.482..  Test Accuracy: 0.821\n",
            "Epoch: 1/2..  Training Loss: 0.546..  Test Loss: 0.465..  Test Accuracy: 0.833\n",
            "Epoch: 1/2..  Training Loss: 0.524..  Test Loss: 0.468..  Test Accuracy: 0.834\n",
            "Epoch: 1/2..  Training Loss: 0.564..  Test Loss: 0.473..  Test Accuracy: 0.832\n",
            "Epoch: 1/2..  Training Loss: 0.501..  Test Loss: 0.480..  Test Accuracy: 0.827\n",
            "Epoch: 2/2..  Training Loss: 0.490..  Test Loss: 0.448..  Test Accuracy: 0.834\n",
            "Epoch: 2/2..  Training Loss: 0.460..  Test Loss: 0.477..  Test Accuracy: 0.824\n",
            "Epoch: 2/2..  Training Loss: 0.496..  Test Loss: 0.469..  Test Accuracy: 0.830\n",
            "Epoch: 2/2..  Training Loss: 0.521..  Test Loss: 0.442..  Test Accuracy: 0.836\n",
            "Epoch: 2/2..  Training Loss: 0.484..  Test Loss: 0.453..  Test Accuracy: 0.833\n",
            "Epoch: 2/2..  Training Loss: 0.500..  Test Loss: 0.455..  Test Accuracy: 0.830\n",
            "Epoch: 2/2..  Training Loss: 0.489..  Test Loss: 0.438..  Test Accuracy: 0.840\n",
            "Epoch: 2/2..  Training Loss: 0.473..  Test Loss: 0.435..  Test Accuracy: 0.842\n",
            "Epoch: 2/2..  Training Loss: 0.500..  Test Loss: 0.438..  Test Accuracy: 0.840\n",
            "Epoch: 2/2..  Training Loss: 0.507..  Test Loss: 0.436..  Test Accuracy: 0.841\n",
            "Epoch: 2/2..  Training Loss: 0.485..  Test Loss: 0.440..  Test Accuracy: 0.838\n",
            "Epoch: 2/2..  Training Loss: 0.514..  Test Loss: 0.443..  Test Accuracy: 0.840\n",
            "Epoch: 2/2..  Training Loss: 0.493..  Test Loss: 0.429..  Test Accuracy: 0.842\n",
            "Epoch: 2/2..  Training Loss: 0.452..  Test Loss: 0.434..  Test Accuracy: 0.843\n",
            "Epoch: 2/2..  Training Loss: 0.511..  Test Loss: 0.439..  Test Accuracy: 0.842\n",
            "Epoch: 2/2..  Training Loss: 0.494..  Test Loss: 0.423..  Test Accuracy: 0.847\n",
            "Epoch: 2/2..  Training Loss: 0.449..  Test Loss: 0.430..  Test Accuracy: 0.841\n",
            "Epoch: 2/2..  Training Loss: 0.471..  Test Loss: 0.429..  Test Accuracy: 0.840\n",
            "Epoch: 2/2..  Training Loss: 0.486..  Test Loss: 0.451..  Test Accuracy: 0.832\n",
            "Epoch: 2/2..  Training Loss: 0.482..  Test Loss: 0.428..  Test Accuracy: 0.847\n",
            "Epoch: 2/2..  Training Loss: 0.463..  Test Loss: 0.432..  Test Accuracy: 0.846\n",
            "Epoch: 2/2..  Training Loss: 0.480..  Test Loss: 0.424..  Test Accuracy: 0.845\n",
            "Epoch: 2/2..  Training Loss: 0.446..  Test Loss: 0.428..  Test Accuracy: 0.844\n"
          ],
          "name": "stdout"
        }
      ]
    },
    {
      "metadata": {
        "id": "Gk3hzlmuvHHc",
        "colab_type": "code",
        "colab": {}
      },
      "cell_type": "code",
      "source": [
        ""
      ],
      "execution_count": 0,
      "outputs": []
    }
  ]
}