{
  "nbformat": 4,
  "nbformat_minor": 0,
  "metadata": {
    "colab": {
      "name": "Fashion_MNIST_pytorch.ipynb",
      "version": "0.3.2",
      "provenance": [],
      "include_colab_link": true
    },
    "kernelspec": {
      "name": "python3",
      "display_name": "Python 3"
    },
    "accelerator": "GPU"
  },
  "cells": [
    {
      "cell_type": "markdown",
      "metadata": {
        "id": "view-in-github",
        "colab_type": "text"
      },
      "source": [
        "[View in Colaboratory](https://colab.research.google.com/github/gr3ybr0w/cookbook/blob/master/Machine_Learning/Neural_Networks/Fashion_MNIST_pytorch.ipynb)"
      ]
    },
    {
      "metadata": {
        "id": "YXqoah09hkGH",
        "colab_type": "code",
        "colab": {}
      },
      "cell_type": "code",
      "source": [
        "# The code from helper which is normally imported\n",
        "\n",
        "import matplotlib.pyplot as plt\n",
        "import numpy as np\n",
        "from torch import nn, optim\n",
        "from torch.autograd import Variable\n",
        "\n",
        "\n",
        "def test_network(net, trainloader):\n",
        "\n",
        "    criterion = nn.MSELoss()\n",
        "    optimizer = optim.Adam(net.parameters(), lr=0.001)\n",
        "\n",
        "    dataiter = iter(trainloader)\n",
        "    images, labels = dataiter.next()\n",
        "\n",
        "    # Create Variables for the inputs and targets\n",
        "    inputs = Variable(images)\n",
        "    targets = Variable(images)\n",
        "\n",
        "    # Clear the gradients from all Variables\n",
        "    optimizer.zero_grad()\n",
        "\n",
        "    # Forward pass, then backward pass, then update weights\n",
        "    output = net.forward(inputs)\n",
        "    loss = criterion(output, targets)\n",
        "    loss.backward()\n",
        "    optimizer.step()\n",
        "\n",
        "    return True\n",
        "\n",
        "\n",
        "def imshow(image, ax=None, title=None, normalize=True):\n",
        "    \"\"\"Imshow for Tensor.\"\"\"\n",
        "    if ax is None:\n",
        "        fig, ax = plt.subplots()\n",
        "    image = image.numpy().transpose((1, 2, 0))\n",
        "\n",
        "    if normalize:\n",
        "        mean = np.array([0.485, 0.456, 0.406])\n",
        "        std = np.array([0.229, 0.224, 0.225])\n",
        "        image = std * image + mean\n",
        "        image = np.clip(image, 0, 1)\n",
        "\n",
        "    ax.imshow(image)\n",
        "    ax.spines['top'].set_visible(False)\n",
        "    ax.spines['right'].set_visible(False)\n",
        "    ax.spines['left'].set_visible(False)\n",
        "    ax.spines['bottom'].set_visible(False)\n",
        "    ax.tick_params(axis='both', length=0)\n",
        "    ax.set_xticklabels('')\n",
        "    ax.set_yticklabels('')\n",
        "\n",
        "    return ax\n",
        "\n",
        "\n",
        "def view_recon(img, recon):\n",
        "    ''' Function for displaying an image (as a PyTorch Tensor) and its\n",
        "        reconstruction also a PyTorch Tensor\n",
        "    '''\n",
        "\n",
        "    fig, axes = plt.subplots(ncols=2, sharex=True, sharey=True)\n",
        "    axes[0].imshow(img.numpy().squeeze())\n",
        "    axes[1].imshow(recon.data.numpy().squeeze())\n",
        "    for ax in axes:\n",
        "        ax.axis('off')\n",
        "        ax.set_adjustable('box-forced')\n",
        "\n",
        "def view_classify(img, ps, version=\"MNIST\"):\n",
        "    ''' Function for viewing an image and it's predicted classes.\n",
        "    '''\n",
        "    ps = ps.data.numpy().squeeze()\n",
        "\n",
        "    fig, (ax1, ax2) = plt.subplots(figsize=(6,9), ncols=2)\n",
        "    ax1.imshow(img.resize_(1, 28, 28).numpy().squeeze())\n",
        "    ax1.axis('off')\n",
        "    ax2.barh(np.arange(10), ps)\n",
        "    ax2.set_aspect(0.1)\n",
        "    ax2.set_yticks(np.arange(10))\n",
        "    if version == \"MNIST\":\n",
        "        ax2.set_yticklabels(np.arange(10))\n",
        "    elif version == \"Fashion\":\n",
        "        ax2.set_yticklabels(['T-shirt/top',\n",
        "                            'Trouser',\n",
        "                            'Pullover',\n",
        "                            'Dress',\n",
        "                            'Coat',\n",
        "                            'Sandal',\n",
        "                            'Shirt',\n",
        "                            'Sneaker',\n",
        "                            'Bag',\n",
        "                            'Ankle Boot'], size='small');\n",
        "    ax2.set_title('Class Probability')\n",
        "    ax2.set_xlim(0, 1.1)\n",
        "\n",
        "    plt.tight_layout()"
      ],
      "execution_count": 0,
      "outputs": []
    },
    {
      "metadata": {
        "id": "8TuMS1OHiNSG",
        "colab_type": "code",
        "colab": {}
      },
      "cell_type": "code",
      "source": [
        "%matplotlib inline\n",
        "%config InlineBackend.figure_format = 'retina'\n",
        "\n",
        "import matplotlib.pyplot as plt\n",
        "import numpy as np\n",
        "import time\n",
        "\n",
        "import torch\n",
        "from torch import nn\n",
        "from torch import optim\n",
        "import torch.nn.functional as F\n",
        "import torch\n",
        "from torchvision import datasets, transforms\n",
        "from collections import OrderedDict\n",
        "# import helper\n",
        "\n",
        "# Define a transform to normalize the data\n",
        "transform = transforms.Compose([transforms.ToTensor(),\n",
        "                                transforms.Normalize((0.5, 0.5, 0.5), (0.5, 0.5, 0.5))])\n",
        "# Download and load the training data\n",
        "trainset = datasets.FashionMNIST('F_MNIST_data/', download=True, train=True, transform=transform)\n",
        "trainloader = torch.utils.data.DataLoader(trainset, batch_size=64, shuffle=True)\n",
        "\n",
        "# Download and load the test data\n",
        "testset = datasets.FashionMNIST('F_MNIST_data/', download=True, train=False, transform=transform)\n",
        "testloader = torch.utils.data.DataLoader(testset, batch_size=64, shuffle=True)"
      ],
      "execution_count": 0,
      "outputs": []
    },
    {
      "metadata": {
        "id": "VfIC4C89iSz8",
        "colab_type": "text"
      },
      "cell_type": "markdown",
      "source": [
        "Here we can see one of the images."
      ]
    },
    {
      "metadata": {
        "id": "0GHnORZPiPzm",
        "colab_type": "code",
        "colab": {
          "base_uri": "https://localhost:8080/",
          "height": 248
        },
        "outputId": "f767d764-e972-463e-c4d8-fd417c3c01f1"
      },
      "cell_type": "code",
      "source": [
        "image, label = next(iter(trainloader))\n",
        "imshow(image[0,:]);"
      ],
      "execution_count": 7,
      "outputs": [
        {
          "output_type": "display_data",
          "data": {
            "image/png": "[encoded data removed]",
            "text/plain": [
              "<matplotlib.figure.Figure at 0x7f2256588b38>"
            ]
          },
          "metadata": {
            "tags": [],
            "image/png": {
              "width": 231,
              "height": 231
            }
          }
        }
      ]
    },
    {
      "metadata": {
        "id": "TUvSExHqiXGz",
        "colab_type": "text"
      },
      "cell_type": "markdown",
      "source": [
        "With the data loaded, it's time to import the necessary packages"
      ]
    },
    {
      "metadata": {
        "id": "pzsougvIi1e7",
        "colab_type": "text"
      },
      "cell_type": "markdown",
      "source": [
        "## Building the network\n",
        "\n",
        "Here you should define your network. As with MNIST, each image is 28x28 which is a total of 784 pixels, and there are 10 classes. You should include at least one hidden layer. We suggest you use ReLU activations for the layers and to return the logits from the forward pass. It's up to you how many layers you add and the size of those layers."
      ]
    },
    {
      "metadata": {
        "id": "2uXr3Pb1iVa1",
        "colab_type": "code",
        "colab": {}
      },
      "cell_type": "code",
      "source": [
        "# Hyperparameters for our network\n",
        "input_size = 784\n",
        "hidden_sizes = [256, 128]\n",
        "output_size = 10\n",
        "\n",
        "# Build a feed-forward network\n",
        "model = nn.Sequential(OrderedDict([\n",
        "                      ('fc1', nn.Linear(input_size, hidden_sizes[0])),\n",
        "                      ('relu1', nn.ReLU()),\n",
        "                      ('fc2', nn.Linear(hidden_sizes[0], hidden_sizes[1])),\n",
        "                      ('relu2', nn.ReLU()),\n",
        "                      ('logits', nn.Linear(hidden_sizes[1], output_size))]))"
      ],
      "execution_count": 0,
      "outputs": []
    },
    {
      "metadata": {
        "id": "oS4sm3sOitS1",
        "colab_type": "code",
        "colab": {
          "base_uri": "https://localhost:8080/",
          "height": 136
        },
        "outputId": "318abedd-0173-4542-e941-43ac3b2304e6"
      },
      "cell_type": "code",
      "source": [
        "model"
      ],
      "execution_count": 23,
      "outputs": [
        {
          "output_type": "execute_result",
          "data": {
            "text/plain": [
              "Sequential(\n",
              "  (fc1): Linear(in_features=784, out_features=256, bias=True)\n",
              "  (relu1): ReLU()\n",
              "  (fc2): Linear(in_features=256, out_features=128, bias=True)\n",
              "  (relu2): ReLU()\n",
              "  (logits): Linear(in_features=128, out_features=10, bias=True)\n",
              ")"
            ]
          },
          "metadata": {
            "tags": []
          },
          "execution_count": 23
        }
      ]
    },
    {
      "metadata": {
        "id": "OWM5yJ_NkGst",
        "colab_type": "text"
      },
      "cell_type": "markdown",
      "source": [
        "# Train the network\n",
        "\n",
        "Now you should create your network and train it. First you'll want to define [the criterion](http://pytorch.org/docs/master/nn.html#loss-functions) ( something like `nn.CrossEntropyLoss`) and [the optimizer](http://pytorch.org/docs/master/optim.html) (typically `optim.SGD` or `optim.Adam`).\n",
        "\n",
        "Then write the training code. Remember the training pass is a fairly straightforward process:\n",
        "\n",
        "* Make a forward pass through the network to get the logits \n",
        "* Use the logits to calculate the loss\n",
        "* Perform a backward pass through the network with `loss.backward()` to calculate the gradients\n",
        "* Take a step with the optimizer to update the weights\n",
        "\n",
        "By adjusting the hyperparameters (hidden units, learning rate, etc), you should be able to get the training loss below 0.4."
      ]
    },
    {
      "metadata": {
        "id": "7EdMahb5jHdG",
        "colab_type": "code",
        "colab": {}
      },
      "cell_type": "code",
      "source": [
        "criterion = nn.CrossEntropyLoss()\n",
        "optimizer = optim.SGD(model.parameters(), lr=0.01)"
      ],
      "execution_count": 0,
      "outputs": []
    },
    {
      "metadata": {
        "id": "J0mBweyqjXVu",
        "colab_type": "code",
        "colab": {
          "base_uri": "https://localhost:8080/",
          "height": 1207
        },
        "outputId": "2391f9e6-efd3-4c05-c9b2-6476ed4cffea"
      },
      "cell_type": "code",
      "source": [
        "epochs = 3\n",
        "print_every = 40\n",
        "steps = 0\n",
        "for e in range(epochs):\n",
        "    running_loss = 0\n",
        "    for images, labels in iter(trainloader):\n",
        "        steps += 1\n",
        "        # Flatten MNIST images into a 784 long vector\n",
        "        images.resize_(images.size()[0], 784)\n",
        "        \n",
        "        optimizer.zero_grad()\n",
        "        \n",
        "        # Forward and backward passes\n",
        "        output = model.forward(images)\n",
        "        loss = criterion(output, labels)\n",
        "        loss.backward()\n",
        "        optimizer.step()\n",
        "        \n",
        "        running_loss += loss.item()\n",
        "        \n",
        "        if steps % print_every == 0:\n",
        "            print(\"Epoch: {}/{}... \".format(e+1, epochs),\n",
        "                  \"Loss: {:.4f}\".format(running_loss/print_every))\n",
        "            \n",
        "            running_loss = 0"
      ],
      "execution_count": 25,
      "outputs": [
        {
          "output_type": "stream",
          "text": [
            "Epoch: 1/3...  Loss: 2.2443\n",
            "Epoch: 1/3...  Loss: 2.1039\n",
            "Epoch: 1/3...  Loss: 1.8857\n",
            "Epoch: 1/3...  Loss: 1.5862\n",
            "Epoch: 1/3...  Loss: 1.3747\n",
            "Epoch: 1/3...  Loss: 1.1437\n",
            "Epoch: 1/3...  Loss: 1.0100\n",
            "Epoch: 1/3...  Loss: 0.9275\n",
            "Epoch: 1/3...  Loss: 0.8682\n",
            "Epoch: 1/3...  Loss: 0.7993\n",
            "Epoch: 1/3...  Loss: 0.7912\n",
            "Epoch: 1/3...  Loss: 0.7707\n",
            "Epoch: 1/3...  Loss: 0.7526\n",
            "Epoch: 1/3...  Loss: 0.7134\n",
            "Epoch: 1/3...  Loss: 0.7018\n",
            "Epoch: 1/3...  Loss: 0.7154\n",
            "Epoch: 1/3...  Loss: 0.6618\n",
            "Epoch: 1/3...  Loss: 0.6647\n",
            "Epoch: 1/3...  Loss: 0.6456\n",
            "Epoch: 1/3...  Loss: 0.6183\n",
            "Epoch: 1/3...  Loss: 0.6139\n",
            "Epoch: 1/3...  Loss: 0.6206\n",
            "Epoch: 1/3...  Loss: 0.6029\n",
            "Epoch: 2/3...  Loss: 0.3222\n",
            "Epoch: 2/3...  Loss: 0.5836\n",
            "Epoch: 2/3...  Loss: 0.5997\n",
            "Epoch: 2/3...  Loss: 0.5858\n",
            "Epoch: 2/3...  Loss: 0.5959\n",
            "Epoch: 2/3...  Loss: 0.6050\n",
            "Epoch: 2/3...  Loss: 0.5785\n",
            "Epoch: 2/3...  Loss: 0.5399\n",
            "Epoch: 2/3...  Loss: 0.5708\n",
            "Epoch: 2/3...  Loss: 0.5662\n",
            "Epoch: 2/3...  Loss: 0.5368\n",
            "Epoch: 2/3...  Loss: 0.5721\n",
            "Epoch: 2/3...  Loss: 0.5205\n",
            "Epoch: 2/3...  Loss: 0.5083\n",
            "Epoch: 2/3...  Loss: 0.5581\n",
            "Epoch: 2/3...  Loss: 0.5285\n",
            "Epoch: 2/3...  Loss: 0.5276\n",
            "Epoch: 2/3...  Loss: 0.5428\n",
            "Epoch: 2/3...  Loss: 0.5156\n",
            "Epoch: 2/3...  Loss: 0.5063\n",
            "Epoch: 2/3...  Loss: 0.5168\n",
            "Epoch: 2/3...  Loss: 0.5221\n",
            "Epoch: 2/3...  Loss: 0.5084\n",
            "Epoch: 3/3...  Loss: 0.0450\n",
            "Epoch: 3/3...  Loss: 0.4918\n",
            "Epoch: 3/3...  Loss: 0.5001\n",
            "Epoch: 3/3...  Loss: 0.5070\n",
            "Epoch: 3/3...  Loss: 0.4949\n",
            "Epoch: 3/3...  Loss: 0.4856\n",
            "Epoch: 3/3...  Loss: 0.5173\n",
            "Epoch: 3/3...  Loss: 0.5006\n",
            "Epoch: 3/3...  Loss: 0.5021\n",
            "Epoch: 3/3...  Loss: 0.4933\n",
            "Epoch: 3/3...  Loss: 0.4885\n",
            "Epoch: 3/3...  Loss: 0.4867\n",
            "Epoch: 3/3...  Loss: 0.5042\n",
            "Epoch: 3/3...  Loss: 0.4933\n",
            "Epoch: 3/3...  Loss: 0.4500\n",
            "Epoch: 3/3...  Loss: 0.4864\n",
            "Epoch: 3/3...  Loss: 0.4591\n",
            "Epoch: 3/3...  Loss: 0.5003\n",
            "Epoch: 3/3...  Loss: 0.4808\n",
            "Epoch: 3/3...  Loss: 0.4570\n",
            "Epoch: 3/3...  Loss: 0.4399\n",
            "Epoch: 3/3...  Loss: 0.4590\n",
            "Epoch: 3/3...  Loss: 0.4648\n",
            "Epoch: 3/3...  Loss: 0.4338\n"
          ],
          "name": "stdout"
        }
      ]
    },
    {
      "metadata": {
        "id": "UozgZPQfjcac",
        "colab_type": "code",
        "colab": {
          "base_uri": "https://localhost:8080/",
          "height": 227
        },
        "outputId": "83396eae-ae77-4e3f-bf1f-b2b3231c17f5"
      },
      "cell_type": "code",
      "source": [
        "# Test out your network!\n",
        "\n",
        "dataiter = iter(testloader)\n",
        "images, labels = dataiter.next()\n",
        "img = images[0]\n",
        "# Convert 2D image to 1D vector\n",
        "img = img.resize_(1, 784)\n",
        "\n",
        "# TODO: Calculate the class probabilities (softmax) for img\n",
        "# Turn off gradients to speed up this part\n",
        "with torch.no_grad():\n",
        "    logits = model.forward(img)\n",
        "ps = F.softmax(logits, dim=1)\n",
        "\n",
        "# Plot the image and probabilities\n",
        "view_classify(img.resize_(1, 28, 28), ps, version='Fashion')"
      ],
      "execution_count": 27,
      "outputs": [
        {
          "output_type": "display_data",
          "data": {
            "image/png": "[encoded data removed]",
            "text/plain": [
              "<matplotlib.figure.Figure at 0x7f2255f749e8>"
            ]
          },
          "metadata": {
            "tags": [],
            "image/png": {
              "width": 424,
              "height": 210
            }
          }
        }
      ]
    },
    {
      "metadata": {
        "id": "o1MR1Whajngt",
        "colab_type": "code",
        "colab": {}
      },
      "cell_type": "code",
      "source": [
        ""
      ],
      "execution_count": 0,
      "outputs": []
    }
  ]
}