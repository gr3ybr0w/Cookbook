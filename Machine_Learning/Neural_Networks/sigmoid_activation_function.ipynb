{
  "nbformat": 4,
  "nbformat_minor": 0,
  "metadata": {
    "colab": {
      "name": "sigmoid_activation_function.ipynb",
      "version": "0.3.2",
      "provenance": [],
      "include_colab_link": true
    },
    "kernelspec": {
      "name": "python3",
      "display_name": "Python 3"
    }
  },
  "cells": [
    {
      "cell_type": "markdown",
      "metadata": {
        "id": "view-in-github",
        "colab_type": "text"
      },
      "source": [
        "[View in Colaboratory](https://colab.research.google.com/github/gr3ybr0w/cookbook/blob/master/sigmoid_activation_function.ipynb)"
      ]
    },
    {
      "metadata": {
        "id": "RDXWbfGIVWuS",
        "colab_type": "code",
        "colab": {}
      },
      "cell_type": "code",
      "source": [
        "import numpy as np"
      ],
      "execution_count": 0,
      "outputs": []
    },
    {
      "metadata": {
        "id": "rkDD-zMiX3hy",
        "colab_type": "text"
      },
      "cell_type": "markdown",
      "source": [
        "Here we are working out the sigmoid activation for point that are above or below a line. This changes a discrete anwser to a continuous anwser. This means that if a point has a value / probabilty of 0.5 then it sits on the line and we can't classify it either way."
      ]
    },
    {
      "metadata": {
        "id": "WF4TNNOyVaAs",
        "colab_type": "code",
        "colab": {}
      },
      "cell_type": "code",
      "source": [
        "def sigmoid_of_points(x1,x2):\n",
        "  res = (4*x1 + 5*x2 - 9)\n",
        "  prob = 1 / (1 + np.exp(-res))\n",
        "  print(prob)"
      ],
      "execution_count": 0,
      "outputs": []
    },
    {
      "metadata": {
        "id": "WRU4SiP-VvkD",
        "colab_type": "code",
        "colab": {}
      },
      "cell_type": "code",
      "source": [
        "points = [[1,1], [2,4], [5,-5], [-4,5]]"
      ],
      "execution_count": 0,
      "outputs": []
    },
    {
      "metadata": {
        "id": "ekAIv6EiV7V7",
        "colab_type": "code",
        "colab": {
          "base_uri": "https://localhost:8080/",
          "height": 86
        },
        "outputId": "fff139f1-7e9e-45a3-bef5-30c5895c6e82"
      },
      "cell_type": "code",
      "source": [
        "for v in points:\n",
        "  sigmoid_of_points(v[0], v[1])"
      ],
      "execution_count": 30,
      "outputs": [
        {
          "output_type": "stream",
          "text": [
            "0.5\n",
            "0.9999999943972036\n",
            "8.315280276641321e-07\n",
            "0.5\n"
          ],
          "name": "stdout"
        }
      ]
    }
  ]
}