{
  "nbformat": 4,
  "nbformat_minor": 0,
  "metadata": {
    "colab": {
      "name": "softmax.ipynb",
      "version": "0.3.2",
      "provenance": [],
      "collapsed_sections": [],
      "include_colab_link": true
    },
    "kernelspec": {
      "name": "python3",
      "display_name": "Python 3"
    }
  },
  "cells": [
    {
      "cell_type": "markdown",
      "metadata": {
        "id": "view-in-github",
        "colab_type": "text"
      },
      "source": [
        "[View in Colaboratory](https://colab.research.google.com/github/gr3ybr0w/cookbook/blob/master/softmax.ipynb)"
      ]
    },
    {
      "metadata": {
        "id": "yt4w7xUQiw20",
        "colab_type": "code",
        "colab": {}
      },
      "cell_type": "code",
      "source": [
        "import numpy as np"
      ],
      "execution_count": 0,
      "outputs": []
    },
    {
      "metadata": {
        "id": "q-zB3HKti4Mh",
        "colab_type": "text"
      },
      "cell_type": "markdown",
      "source": [
        "Here we are showing how softmax work. Softmax is there to create a probabilty when we have more than two classes. In this case we have three potential classes and we have recieved a score from our features for each of them."
      ]
    },
    {
      "metadata": {
        "id": "cJ5T62sIi3q3",
        "colab_type": "code",
        "colab": {}
      },
      "cell_type": "code",
      "source": [
        "# the list of values given by the softmax function.\n",
        "def softmax(L):\n",
        "    expL = np.exp(L)\n",
        "    sumExpL = np.sum(expL)\n",
        "    result = []\n",
        "    for i in expL:\n",
        "        result.append(i*1.0/sumExpL)\n",
        "    return result"
      ],
      "execution_count": 0,
      "outputs": []
    },
    {
      "metadata": {
        "id": "2p7ragdXj4QV",
        "colab_type": "code",
        "colab": {}
      },
      "cell_type": "code",
      "source": [
        "list_of_scores = [5,6,7]"
      ],
      "execution_count": 0,
      "outputs": []
    },
    {
      "metadata": {
        "id": "lsTg_Mtsj79E",
        "colab_type": "code",
        "colab": {
          "base_uri": "https://localhost:8080/",
          "height": 34
        },
        "outputId": "0b1b3853-97a9-44aa-85e9-bb3b9ad766ca"
      },
      "cell_type": "code",
      "source": [
        "softmax(list_of_scores)"
      ],
      "execution_count": 7,
      "outputs": [
        {
          "output_type": "execute_result",
          "data": {
            "text/plain": [
              "[0.09003057317038046, 0.24472847105479764, 0.6652409557748219]"
            ]
          },
          "metadata": {
            "tags": []
          },
          "execution_count": 7
        }
      ]
    },
    {
      "metadata": {
        "id": "wJFlAn7cj9nM",
        "colab_type": "code",
        "colab": {}
      },
      "cell_type": "code",
      "source": [
        ""
      ],
      "execution_count": 0,
      "outputs": []
    }
  ]
}