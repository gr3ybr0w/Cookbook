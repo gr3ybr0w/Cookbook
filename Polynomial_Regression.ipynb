{
  "nbformat": 4,
  "nbformat_minor": 0,
  "metadata": {
    "colab": {
      "name": "Polynomial_Regression.ipynb",
      "version": "0.3.2",
      "provenance": [],
      "include_colab_link": true
    },
    "kernelspec": {
      "name": "python3",
      "display_name": "Python 3"
    }
  },
  "cells": [
    {
      "cell_type": "markdown",
      "metadata": {
        "id": "view-in-github",
        "colab_type": "text"
      },
      "source": [
        "[View in Colaboratory](https://colab.research.google.com/github/gr3ybr0w/cookbook/blob/master/Polynomial_Regression.ipynb)"
      ]
    },
    {
      "metadata": {
        "id": "L76tTT5FTMEN",
        "colab_type": "code",
        "colab": {}
      },
      "cell_type": "code",
      "source": [
        "# TODO: Add import statements\n",
        "import pandas as pd\n",
        "from sklearn.preprocessing import PolynomialFeatures\n",
        "from sklearn.linear_model import LinearRegression\n",
        "\n",
        "\n",
        "# Assign the data to predictor and outcome variables\n",
        "# TODO: Load the data\n",
        "train_data = pd.read_csv('./data.csv')\n",
        "X = train_data['Var_X'].values.reshape(-1, 1)\n",
        "y = train_data['Var_Y']\n",
        "\n",
        "# Create polynomial features\n",
        "# TODO: Create a PolynomialFeatures object, then fit and transform the\n",
        "# predictor feature\n",
        "poly_feat = PolynomialFeatures(4)\n",
        "X_poly = poly_feat.fit_transform(X, y)\n",
        "\n",
        "# Make and fit the polynomial regression model\n",
        "# TODO: Create a LinearRegression object and fit it to the polynomial predictor\n",
        "# features\n",
        "poly_model = LinearRegression()\n",
        "poly_model.fit(X_poly, y)\n",
        "\n",
        "# Once you've completed all of the steps, select Test Run to see your model\n",
        "# predictions against the data, or select Submit Answer to check if the degree\n",
        "# of the polynomial features is the same as ours!"
      ],
      "execution_count": 0,
      "outputs": []
    }
  ]
}