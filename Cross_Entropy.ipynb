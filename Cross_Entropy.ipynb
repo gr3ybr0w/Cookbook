{
  "nbformat": 4,
  "nbformat_minor": 0,
  "metadata": {
    "colab": {
      "name": "Cross_Entropy.ipynb",
      "version": "0.3.2",
      "provenance": [],
      "collapsed_sections": [],
      "include_colab_link": true
    },
    "kernelspec": {
      "name": "python3",
      "display_name": "Python 3"
    }
  },
  "cells": [
    {
      "cell_type": "markdown",
      "metadata": {
        "id": "view-in-github",
        "colab_type": "text"
      },
      "source": [
        "[View in Colaboratory](https://colab.research.google.com/github/gr3ybr0w/cookbook/blob/master/Cross_Entropy.ipynb)"
      ]
    },
    {
      "metadata": {
        "id": "Kjnw_CG89RTv",
        "colab_type": "code",
        "colab": {}
      },
      "cell_type": "code",
      "source": [
        "import numpy as np"
      ],
      "execution_count": 0,
      "outputs": []
    },
    {
      "metadata": {
        "id": "1PMwL33D9Zjy",
        "colab_type": "text"
      },
      "cell_type": "markdown",
      "source": [
        "Here we are looking at caculating cross entropy/log loss. The lower the score the better. This allows us to work out a loss when there are a number of classes. We will have 2 lists. The first is the label of Yes 1 or No 0 and the other is the probabilty of this occuring."
      ]
    },
    {
      "metadata": {
        "id": "pmjnWbcH-Shc",
        "colab_type": "code",
        "colab": {}
      },
      "cell_type": "code",
      "source": [
        "Y = [1,0,1,1]\n",
        "P = [0.4,0.6,0.1,0.5]"
      ],
      "execution_count": 0,
      "outputs": []
    },
    {
      "metadata": {
        "id": "ihtJo0VT-V2T",
        "colab_type": "code",
        "colab": {}
      },
      "cell_type": "code",
      "source": [
        "def cross_entropy(Y, P):\n",
        "    Y = np.float_(Y)\n",
        "    P = np.float_(P)\n",
        "    return -np.sum(Y * np.log(P) + (1 - Y) * np.log(1 - P))"
      ],
      "execution_count": 0,
      "outputs": []
    },
    {
      "metadata": {
        "id": "POKSZvf1-Zhz",
        "colab_type": "code",
        "colab": {
          "base_uri": "https://localhost:8080/",
          "height": 34
        },
        "outputId": "cbc022f3-d537-4c61-fe17-4f1bb9e5b867"
      },
      "cell_type": "code",
      "source": [
        "cross_entropy(Y, P)"
      ],
      "execution_count": 7,
      "outputs": [
        {
          "output_type": "execute_result",
          "data": {
            "text/plain": [
              "4.828313737302301"
            ]
          },
          "metadata": {
            "tags": []
          },
          "execution_count": 7
        }
      ]
    },
    {
      "metadata": {
        "id": "fIDGT8Xh-bxC",
        "colab_type": "code",
        "colab": {}
      },
      "cell_type": "code",
      "source": [
        ""
      ],
      "execution_count": 0,
      "outputs": []
    }
  ]
}