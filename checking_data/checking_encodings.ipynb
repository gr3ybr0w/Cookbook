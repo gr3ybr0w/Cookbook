{
  "nbformat": 4,
  "nbformat_minor": 0,
  "metadata": {
    "colab": {
      "name": "checking_encodings.ipynb",
      "version": "0.3.2",
      "provenance": [],
      "include_colab_link": true
    },
    "kernelspec": {
      "name": "python3",
      "display_name": "Python 3"
    }
  },
  "cells": [
    {
      "cell_type": "markdown",
      "metadata": {
        "id": "view-in-github",
        "colab_type": "text"
      },
      "source": [
        "<a href=\"https://colab.research.google.com/github/gr3ybr0w/cookbook/blob/master/checking_data/checking_encodings.ipynb\" target=\"_parent\"><img src=\"https://colab.research.google.com/assets/colab-badge.svg\" alt=\"Open In Colab\"/></a>"
      ]
    },
    {
      "metadata": {
        "id": "tRFFG3yevbj4",
        "colab_type": "code",
        "colab": {
          "base_uri": "https://localhost:8080/",
          "height": 34
        },
        "outputId": "4e866508-b457-47fb-e10a-242afd25d4d4"
      },
      "cell_type": "code",
      "source": [
        "# install the chardet library\n",
        "!pip install chardet"
      ],
      "execution_count": 1,
      "outputs": [
        {
          "output_type": "stream",
          "text": [
            "Requirement already satisfied: chardet in /usr/local/lib/python3.6/dist-packages (3.0.4)\n"
          ],
          "name": "stdout"
        }
      ]
    },
    {
      "metadata": {
        "id": "OkJq-09Rv-AL",
        "colab_type": "code",
        "colab": {}
      },
      "cell_type": "code",
      "source": [
        "# import the chardet library\n",
        "import chardet \n",
        "\n",
        "# use the detect method to find the encoding\n",
        "# 'rb' means read in the file as binary\n",
        "with open(\"mystery.csv\", 'rb') as file:\n",
        "    print(chardet.detect(file.read()))"
      ],
      "execution_count": 0,
      "outputs": []
    }
  ]
}